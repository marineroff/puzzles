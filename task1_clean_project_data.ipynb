{
 "cells": [
  {
   "cell_type": "code",
   "execution_count": 2,
   "id": "6fffef72-dbd2-4291-8cc3-c0c2e5e95fb0",
   "metadata": {},
   "outputs": [],
   "source": [
    "### cleanse customers \n",
    "\n",
    "import pandas as pd\n",
    "import seaborn as sns\n",
    "\n",
    "def summaryOfData(file, *s):\n",
    "    print(\"DESCRIBE\\n\",file.describe(), \"\\n\")\n",
    "    print(\"TYPES\\n\\n\",file.dtypes, \"\\n\")\n",
    "    print(\"SHAPE\\n\\n\",file.shape, \"\\n\")\n",
    "    print(\"INFO\\n\\n\", file.info(), \"\\n\")\n",
    "    ###print(\"VALUE COUNTS\\n\\n\", file[s].value_counts(), \"\\n\")\n",
    "    print(\"UNIQUE\\n\\n\",file.nunique(), \"\\n\")\n",
    "    print(\"IS NA SUM\\n\\n\",file.isna().sum(), \"\\n\")\n",
    "    print(\"IS DUP \\n\\n\",file[file.duplicated()], \"\\n\")\n",
    "        "
   ]
  },
  {
   "cell_type": "code",
   "execution_count": 3,
   "id": "bbeef9d0-7504-49f7-bcda-94f3ae31ce9a",
   "metadata": {},
   "outputs": [
    {
     "name": "stdout",
     "output_type": "stream",
     "text": [
      "  client_id sex  birth\n",
      "0    c_4410   f   1967\n",
      "1    c_7839   f   1975\n",
      "2    c_1699   f   1984\n",
      "3    c_5961   f   1962\n",
      "4    c_5320   m   1943\n",
      "DESCRIBE\n",
      "              birth\n",
      "count  8623.000000\n",
      "mean   1978.280877\n",
      "std      16.919535\n",
      "min    1929.000000\n",
      "25%    1966.000000\n",
      "50%    1979.000000\n",
      "75%    1992.000000\n",
      "max    2004.000000 \n",
      "\n",
      "TYPES\n",
      "\n",
      " client_id    object\n",
      "sex          object\n",
      "birth         int64\n",
      "dtype: object \n",
      "\n",
      "SHAPE\n",
      "\n",
      " (8623, 3) \n",
      "\n",
      "<class 'pandas.core.frame.DataFrame'>\n",
      "RangeIndex: 8623 entries, 0 to 8622\n",
      "Data columns (total 3 columns):\n",
      " #   Column     Non-Null Count  Dtype \n",
      "---  ------     --------------  ----- \n",
      " 0   client_id  8623 non-null   object\n",
      " 1   sex        8623 non-null   object\n",
      " 2   birth      8623 non-null   int64 \n",
      "dtypes: int64(1), object(2)\n",
      "memory usage: 202.2+ KB\n",
      "INFO\n",
      "\n",
      " None \n",
      "\n",
      "UNIQUE\n",
      "\n",
      " client_id    8623\n",
      "sex             2\n",
      "birth          76\n",
      "dtype: int64 \n",
      "\n",
      "IS NA SUM\n",
      "\n",
      " client_id    0\n",
      "sex          0\n",
      "birth        0\n",
      "dtype: int64 \n",
      "\n",
      "IS DUP \n",
      "\n",
      " Empty DataFrame\n",
      "Columns: [client_id, sex, birth]\n",
      "Index: [] \n",
      "\n",
      "  id_prod  price  categ\n",
      "0  0_1421  19.99      0\n",
      "1  0_1368   5.13      0\n",
      "2   0_731  17.99      0\n",
      "3   1_587   4.99      1\n",
      "4  0_1507   3.99      0\n",
      "DESCRIBE\n",
      "              price        categ\n",
      "count  3287.000000  3287.000000\n",
      "mean     21.856641     0.370246\n",
      "std      29.847908     0.615387\n",
      "min      -1.000000     0.000000\n",
      "25%       6.990000     0.000000\n",
      "50%      13.060000     0.000000\n",
      "75%      22.990000     1.000000\n",
      "max     300.000000     2.000000 \n",
      "\n",
      "TYPES\n",
      "\n",
      " id_prod     object\n",
      "price      float64\n",
      "categ        int64\n",
      "dtype: object \n",
      "\n",
      "SHAPE\n",
      "\n",
      " (3287, 3) \n",
      "\n",
      "<class 'pandas.core.frame.DataFrame'>\n",
      "RangeIndex: 3287 entries, 0 to 3286\n",
      "Data columns (total 3 columns):\n",
      " #   Column   Non-Null Count  Dtype  \n",
      "---  ------   --------------  -----  \n",
      " 0   id_prod  3287 non-null   object \n",
      " 1   price    3287 non-null   float64\n",
      " 2   categ    3287 non-null   int64  \n",
      "dtypes: float64(1), int64(1), object(1)\n",
      "memory usage: 77.2+ KB\n",
      "INFO\n",
      "\n",
      " None \n",
      "\n",
      "UNIQUE\n",
      "\n",
      " id_prod    3287\n",
      "price      1455\n",
      "categ         3\n",
      "dtype: int64 \n",
      "\n",
      "IS NA SUM\n",
      "\n",
      " id_prod    0\n",
      "price      0\n",
      "categ      0\n",
      "dtype: int64 \n",
      "\n",
      "IS DUP \n",
      "\n",
      " Empty DataFrame\n",
      "Columns: [id_prod, price, categ]\n",
      "Index: [] \n",
      "\n",
      "what are the category counts: \n",
      " 0    2309\n",
      "1     739\n",
      "2     239\n",
      "Name: categ, dtype: int64\n"
     ]
    }
   ],
   "source": [
    "dataCustomers=pd.read_csv(\"customers.csv\")\n",
    "print(dataCustomers.head())\n",
    "summaryOfData(dataCustomers)\n",
    "## Conclusion - nothing to clean for Customers. \n",
    "\n",
    "### cleanse products\n",
    "dataProducts = pd.read_csv(\"products.csv\")\n",
    "print(dataProducts.head())\n",
    "summaryOfData(dataProducts)\n",
    "print('what are the category counts: \\n',dataProducts.categ.value_counts())"
   ]
  },
  {
   "cell_type": "code",
   "execution_count": 4,
   "id": "dd1636fd-db44-4651-8c98-a0b5a91693fa",
   "metadata": {},
   "outputs": [
    {
     "name": "stdout",
     "output_type": "stream",
     "text": [
      "  id_prod                        date session_id client_id\n",
      "0  0_1483  2021-04-10 18:37:28.723910    s_18746    c_4450\n",
      "1   2_226  2022-02-03 01:55:53.276402   s_159142     c_277\n",
      "2   1_374  2021-09-23 15:13:46.938559    s_94290    c_4270\n",
      "3  0_2186  2021-10-17 03:27:18.783634   s_105936    c_4597\n",
      "4  0_1351  2021-07-17 20:34:25.800563    s_63642    c_1242\n",
      "DESCRIBE\n",
      "        id_prod                             date session_id client_id\n",
      "count   337016                           337016     337016    337016\n",
      "unique    3266                           336855     169195      8602\n",
      "top      1_369  test_2021-03-01 02:30:02.237413        s_0    c_1609\n",
      "freq      1081                               13        200     12855 \n",
      "\n",
      "TYPES\n",
      "\n",
      " id_prod       object\n",
      "date          object\n",
      "session_id    object\n",
      "client_id     object\n",
      "dtype: object \n",
      "\n",
      "SHAPE\n",
      "\n",
      " (337016, 4) \n",
      "\n",
      "<class 'pandas.core.frame.DataFrame'>\n",
      "RangeIndex: 337016 entries, 0 to 337015\n",
      "Data columns (total 4 columns):\n",
      " #   Column      Non-Null Count   Dtype \n",
      "---  ------      --------------   ----- \n",
      " 0   id_prod     337016 non-null  object\n",
      " 1   date        337016 non-null  object\n",
      " 2   session_id  337016 non-null  object\n",
      " 3   client_id   337016 non-null  object\n",
      "dtypes: object(4)\n",
      "memory usage: 10.3+ MB\n",
      "INFO\n",
      "\n",
      " None \n",
      "\n",
      "UNIQUE\n",
      "\n",
      " id_prod         3266\n",
      "date          336855\n",
      "session_id    169195\n",
      "client_id       8602\n",
      "dtype: int64 \n",
      "\n",
      "IS NA SUM\n",
      "\n",
      " id_prod       0\n",
      "date          0\n",
      "session_id    0\n",
      "client_id     0\n",
      "dtype: int64 \n",
      "\n",
      "IS DUP \n",
      "\n",
      "        id_prod                             date session_id client_id\n",
      "34387      T_0  test_2021-03-01 02:30:02.237443        s_0      ct_0\n",
      "54813      T_0  test_2021-03-01 02:30:02.237412        s_0      ct_1\n",
      "57261      T_0  test_2021-03-01 02:30:02.237439        s_0      ct_1\n",
      "58802      T_0  test_2021-03-01 02:30:02.237429        s_0      ct_0\n",
      "60170      T_0  test_2021-03-01 02:30:02.237446        s_0      ct_0\n",
      "...        ...                              ...        ...       ...\n",
      "332594     T_0  test_2021-03-01 02:30:02.237445        s_0      ct_0\n",
      "332705     T_0  test_2021-03-01 02:30:02.237423        s_0      ct_1\n",
      "332730     T_0  test_2021-03-01 02:30:02.237421        s_0      ct_1\n",
      "333442     T_0  test_2021-03-01 02:30:02.237431        s_0      ct_1\n",
      "335279     T_0  test_2021-03-01 02:30:02.237430        s_0      ct_0\n",
      "\n",
      "[126 rows x 4 columns] \n",
      "\n"
     ]
    }
   ],
   "source": [
    "### cleanse transactions\n",
    "dataTransactions = pd.read_csv(\"transactions.csv\")\n",
    "print(dataTransactions.head())\n",
    "summaryOfData(dataTransactions) ## need to modify function - bc date is really what we should compare against"
   ]
  },
  {
   "cell_type": "code",
   "execution_count": 5,
   "id": "311496c7-8260-42ae-93a0-f5dc65407c00",
   "metadata": {},
   "outputs": [
    {
     "name": "stdout",
     "output_type": "stream",
     "text": [
      "    id_prod  price  categ\n",
      "731     T_0   -1.0      0\n",
      "    id_prod  price  categ\n",
      "731     T_0    0.0      0\n"
     ]
    }
   ],
   "source": [
    "### things that are wrong \n",
    "\n",
    "#### 1. products - price cannot be negative (remove or impute? should it just be 0 then?)\n",
    "\n",
    "### how many products are there in table? will removing this one impact metrics?\n",
    "#print(dataProducts['id_prod'].nunique())\n",
    "## !!! 3287 unique products\n",
    "\n",
    "### change price of T_0 to 0 instead of -1 and run describe again \n",
    "print(dataProducts.loc[dataProducts['id_prod'] =='T_0'])\n",
    "dataProducts.loc[[731],['price']] = 0 \n",
    "print(dataProducts.loc[dataProducts['id_prod'] =='T_0'])\n",
    "\n",
    "#### 2. transactions - dups \n",
    "dataTransactions = dataTransactions.drop_duplicates(keep= \"first\")\n"
   ]
  },
  {
   "cell_type": "code",
   "execution_count": 7,
   "id": "d3e9b24c-50ca-432c-90d5-28316f8b3ffc",
   "metadata": {},
   "outputs": [
    {
     "data": {
      "text/plain": [
       "0        19.99\n",
       "1         5.13\n",
       "2        17.99\n",
       "3         4.99\n",
       "4         3.99\n",
       "         ...  \n",
       "3282    115.99\n",
       "3283     17.14\n",
       "3284     11.22\n",
       "3285     38.56\n",
       "3286     25.16\n",
       "Name: price, Length: 3287, dtype: float64"
      ]
     },
     "execution_count": 7,
     "metadata": {},
     "output_type": "execute_result"
    },
    {
     "data": {
      "image/png": "[encoded data removed]",
      "text/plain": [
       "<Figure size 432x288 with 1 Axes>"
      ]
     },
     "metadata": {
      "needs_background": "light"
     },
     "output_type": "display_data"
    }
   ],
   "source": [
    "## products\n",
    "dataProducts.boxplot(column='price') ## are these outliers? or just many diff products? how do i dtermine what is \"outlier\"?\n",
    "dataProducts['price'].astype(float)"
   ]
  },
  {
   "cell_type": "code",
   "execution_count": 8,
   "id": "ac11ceb8-333c-4a32-9c06-ec209b9f0b15",
   "metadata": {},
   "outputs": [],
   "source": [
    "#display(dataTransactions[dataTransactions['id_prod']=='T_0'])\n",
    "# remove test transactions \n",
    "# if the \"date' has \"test\" then drop \n",
    "dataTransactions=dataTransactions[dataTransactions['date'].str.contains('test')==False]"
   ]
  },
  {
   "cell_type": "code",
   "execution_count": 9,
   "id": "e3848d32-d714-4f6a-bf16-97484a49d527",
   "metadata": {},
   "outputs": [],
   "source": [
    "## convert to proper format each of values -> $ should be floats, dates should be datetimes\n",
    "dataTransactions['date'] =  pd.to_datetime(dataTransactions['date'])\n",
    "#display(dataTransactions.dtypes)"
   ]
  },
  {
   "cell_type": "code",
   "execution_count": 10,
   "id": "c4346503-f7ad-40e2-880d-86dfcca1b28b",
   "metadata": {},
   "outputs": [],
   "source": [
    "dataTransactions['Month'] = dataTransactions['date'].dt.month\n",
    "dataTransactions['Year'] = dataTransactions['date'].dt.year\n",
    "dataTransactions['Day'] = dataTransactions['date'].dt.day\n",
    "dataTransactions['Weekday'] = dataTransactions['date'].dt.weekday\n",
    "dataTransactions['Hour'] = dataTransactions['date'].dt.hour\n",
    "dataTransactions['Minute'] = dataTransactions['date'].dt.minute"
   ]
  },
  {
   "cell_type": "code",
   "execution_count": 11,
   "id": "efd4253a-eab4-4ae8-8fb2-f467083e0484",
   "metadata": {},
   "outputs": [],
   "source": [
    "Months = {1:'Jan',2:'Feb',3:'Mar', 4:'Apr', 5:'May', 6:'Jun', 7:'Jul', 8:'Aug', 9:'Sep', 10:'Oct', 11:'Nov', 12:'Dec'}\n",
    "Weekday = {0:\"Mon\", 1:\"Tue\", 2:\"Wed\", 3:\"Thu\", 4:\"Fri\", 5:\"Sat\", 6:\"Sun\"}\n",
    "dataTransactions['Weekday'].replace(Weekday, inplace=True)\n",
    "dataTransactions['Month'].replace(Months, inplace=True)"
   ]
  },
  {
   "cell_type": "code",
   "execution_count": 12,
   "id": "e6c91279-fdbd-4662-bbe2-1a559fbc98e5",
   "metadata": {},
   "outputs": [
    {
     "name": "stdout",
     "output_type": "stream",
     "text": [
      "2021-03-01 00:01:07.843138\n",
      "2022-02-28 23:59:58.040472\n"
     ]
    },
    {
     "data": {
      "image/png": "[encoded data removed]",
      "text/plain": [
       "<Figure size 432x288 with 1 Axes>"
      ]
     },
     "metadata": {
      "needs_background": "light"
     },
     "output_type": "display_data"
    }
   ],
   "source": [
    "sns.countplot(data=dataTransactions, x='Month', hue='Year')\n",
    "print(dataTransactions['date'].min())\n",
    "print(dataTransactions['date'].max())"
   ]
  },
  {
   "cell_type": "code",
   "execution_count": 13,
   "id": "a9aee599-8d0b-44e9-9a44-f2efb0dd91fc",
   "metadata": {},
   "outputs": [
    {
     "data": {
      "text/plain": [
       "<AxesSubplot:xlabel='Year', ylabel='count'>"
      ]
     },
     "execution_count": 13,
     "metadata": {},
     "output_type": "execute_result"
    },
    {
     "data": {
      "image/png": "[encoded data removed]",
      "text/plain": [
       "<Figure size 432x288 with 1 Axes>"
      ]
     },
     "metadata": {
      "needs_background": "light"
     },
     "output_type": "display_data"
    }
   ],
   "source": [
    "sns.countplot(x=dataTransactions.Year)"
   ]
  },
  {
   "cell_type": "code",
   "execution_count": 14,
   "id": "8a2ba3e6-bf5b-4085-bc4e-b911cbb05fc2",
   "metadata": {},
   "outputs": [
    {
     "data": {
      "text/plain": [
       "<AxesSubplot:xlabel='Weekday', ylabel='count'>"
      ]
     },
     "execution_count": 14,
     "metadata": {},
     "output_type": "execute_result"
    },
    {
     "data": {
      "image/png": "[encoded data removed]",
      "text/plain": [
       "<Figure size 432x288 with 1 Axes>"
      ]
     },
     "metadata": {
      "needs_background": "light"
     },
     "output_type": "display_data"
    }
   ],
   "source": [
    "sns.countplot(data=dataTransactions, x='Weekday', hue='Year')"
   ]
  },
  {
   "cell_type": "code",
   "execution_count": 60,
   "id": "48373d7d-1e18-47ff-aa98-2bc42fa73ac0",
   "metadata": {},
   "outputs": [],
   "source": [
    "#### task2 Indicators of central tendency and dispersion. ####\n",
    "# analyzing the transactions date and price\n",
    "## merge products and transactions on 'id_prod' as left join"
   ]
  },
  {
   "cell_type": "code",
   "execution_count": 15,
   "id": "914f4c43-0fb9-41b8-b2e1-83e5ad7f9a16",
   "metadata": {},
   "outputs": [
    {
     "data": {
      "text/plain": [
       "(336816, 10)"
      ]
     },
     "metadata": {},
     "output_type": "display_data"
    },
    {
     "data": {
      "text/plain": [
       "(336816, 12)"
      ]
     },
     "metadata": {},
     "output_type": "display_data"
    }
   ],
   "source": [
    "dataProductsTransactionsLeft = dataTransactions.merge(dataProducts,on=['id_prod'], how='left')\n",
    "display(dataTransactions.shape)\n",
    "display(dataProductsTransactionsLeft.shape)"
   ]
  },
  {
   "cell_type": "code",
   "execution_count": 16,
   "id": "bf965eab-1efc-4444-9aea-b1d6e273bd04",
   "metadata": {},
   "outputs": [
    {
     "data": {
      "text/html": [
       "<div>\n",
       "<style scoped>\n",
       "    .dataframe tbody tr th:only-of-type {\n",
       "        vertical-align: middle;\n",
       "    }\n",
       "\n",
       "    .dataframe tbody tr th {\n",
       "        vertical-align: top;\n",
       "    }\n",
       "\n",
       "    .dataframe thead th {\n",
       "        text-align: right;\n",
       "    }\n",
       "</style>\n",
       "<table border=\"1\" class=\"dataframe\">\n",
       "  <thead>\n",
       "    <tr style=\"text-align: right;\">\n",
       "      <th></th>\n",
       "      <th>id_prod</th>\n",
       "      <th>date</th>\n",
       "      <th>session_id</th>\n",
       "      <th>client_id</th>\n",
       "      <th>Month</th>\n",
       "      <th>Year</th>\n",
       "      <th>Day</th>\n",
       "      <th>Weekday</th>\n",
       "      <th>Hour</th>\n",
       "      <th>Minute</th>\n",
       "      <th>price</th>\n",
       "      <th>categ</th>\n",
       "    </tr>\n",
       "  </thead>\n",
       "  <tbody>\n",
       "  </tbody>\n",
       "</table>\n",
       "</div>"
      ],
      "text/plain": [
       "Empty DataFrame\n",
       "Columns: [id_prod, date, session_id, client_id, Month, Year, Day, Weekday, Hour, Minute, price, categ]\n",
       "Index: []"
      ]
     },
     "metadata": {},
     "output_type": "display_data"
    },
    {
     "data": {
      "text/html": [
       "<div>\n",
       "<style scoped>\n",
       "    .dataframe tbody tr th:only-of-type {\n",
       "        vertical-align: middle;\n",
       "    }\n",
       "\n",
       "    .dataframe tbody tr th {\n",
       "        vertical-align: top;\n",
       "    }\n",
       "\n",
       "    .dataframe thead th {\n",
       "        text-align: right;\n",
       "    }\n",
       "</style>\n",
       "<table border=\"1\" class=\"dataframe\">\n",
       "  <thead>\n",
       "    <tr style=\"text-align: right;\">\n",
       "      <th></th>\n",
       "      <th>id_prod</th>\n",
       "      <th>date</th>\n",
       "      <th>session_id</th>\n",
       "      <th>client_id</th>\n",
       "      <th>Month</th>\n",
       "      <th>Year</th>\n",
       "      <th>Day</th>\n",
       "      <th>Weekday</th>\n",
       "      <th>Hour</th>\n",
       "      <th>Minute</th>\n",
       "      <th>price</th>\n",
       "      <th>categ</th>\n",
       "    </tr>\n",
       "  </thead>\n",
       "  <tbody>\n",
       "  </tbody>\n",
       "</table>\n",
       "</div>"
      ],
      "text/plain": [
       "Empty DataFrame\n",
       "Columns: [id_prod, date, session_id, client_id, Month, Year, Day, Weekday, Hour, Minute, price, categ]\n",
       "Index: []"
      ]
     },
     "metadata": {},
     "output_type": "display_data"
    }
   ],
   "source": [
    "display(dataProductsTransactionsLeft[dataProductsTransactionsLeft['id_prod'].isna()==True])\n",
    "display(dataProductsTransactionsLeft[dataProductsTransactionsLeft['date'].isna()==True])\n",
    "### there are no null values for dates or id_prod so thats good. should use left join"
   ]
  },
  {
   "cell_type": "code",
   "execution_count": 17,
   "id": "9cd75d32-d8cf-40e8-a91e-03ba3f69618e",
   "metadata": {},
   "outputs": [],
   "source": [
    "dataProductsTransactionsCustomersLeft = dataProductsTransactionsLeft.merge(dataCustomers, on='client_id', how='left')"
   ]
  },
  {
   "cell_type": "code",
   "execution_count": 18,
   "id": "08ff8695-149d-4882-89a2-cad11be29d09",
   "metadata": {},
   "outputs": [
    {
     "name": "stdout",
     "output_type": "stream",
     "text": [
      "336713\n"
     ]
    },
    {
     "data": {
      "image/png": "[encoded data removed]",
      "text/plain": [
       "<Figure size 432x288 with 1 Axes>"
      ]
     },
     "metadata": {
      "needs_background": "light"
     },
     "output_type": "display_data"
    }
   ],
   "source": [
    "#### A concentration analysis, using a Lorenz curve and a Gini coefficient.\n",
    "import numpy as np\n",
    "\n",
    "price = dataProductsTransactionsCustomersLeft[dataProductsTransactionsCustomersLeft['price'] > 0]\n",
    "priceOnly = price.price\n",
    "\n",
    "def lorenzCurve(priceOnly):\n",
    "    n = len(priceOnly)\n",
    "    lorenz = np.cumsum(np.sort(priceOnly)) / priceOnly.sum()\n",
    "    lorenz = np.append([0],lorenz) # The Lorenz Curve begins at 0\n",
    "    xaxis = np.linspace(0-1/n,1+1/n,n+1) # There is 1 segment (of size n) for each individual, plus 1 segment at y=0. The first segment starts at 0-1/n and the last one finishes at 1+1/n\n",
    "    sns.lineplot(data=priceOnly,x=xaxis,y=lorenz,drawstyle='steps-post')\n",
    "    return lorenz,n\n",
    "\n",
    "lorenzPriceAll,size = lorenzCurve(priceOnly)\n",
    "print(size)"
   ]
  },
  {
   "cell_type": "code",
   "execution_count": 19,
   "id": "d1582da9-9c74-4789-9bd4-54d214eabc8a",
   "metadata": {},
   "outputs": [
    {
     "data": {
      "text/plain": [
       "0.392145510890881"
      ]
     },
     "execution_count": 19,
     "metadata": {},
     "output_type": "execute_result"
    }
   ],
   "source": [
    "def gini(lorenz, size):\n",
    "    #print(lorenz.sum())\n",
    "    #print(\"size \",size)\n",
    "    AUC = (lorenz.sum() -lorenz[-1]/2 -lorenz[0]/2)/size # area under the Lorenz Curve. The first segment (lorenz[0]) is halfly below O, so we divide it by 2. We do the same for the mast segment lorenz[-1]\n",
    "    S = 0.5 - AUC # area between 1st bisector and the Lorenz Curve\n",
    "    gini = 2*S\n",
    "    return gini\n",
    "\n",
    "gini(lorenzPriceAll,size)"
   ]
  },
  {
   "cell_type": "code",
   "execution_count": 20,
   "id": "d148b005-d0e4-464d-8d4e-b16be31d0439",
   "metadata": {},
   "outputs": [
    {
     "data": {
      "text/plain": [
       "<AxesSubplot:>"
      ]
     },
     "execution_count": 20,
     "metadata": {},
     "output_type": "execute_result"
    },
    {
     "data": {
      "image/png": "[encoded data removed]",
      "text/plain": [
       "<Figure size 432x288 with 1 Axes>"
      ]
     },
     "metadata": {
      "needs_background": "light"
     },
     "output_type": "display_data"
    }
   ],
   "source": [
    "dataProductsTransactionsCustomersLeft.boxplot(column='price')"
   ]
  },
  {
   "cell_type": "code",
   "execution_count": 21,
   "id": "df31a865-69e1-4c47-afc7-d0c1f1c5b6c1",
   "metadata": {},
   "outputs": [
    {
     "data": {
      "text/plain": [
       "count    336713.000000\n",
       "mean         17.215189\n",
       "std          17.855445\n",
       "min           0.620000\n",
       "25%           8.610000\n",
       "50%          13.900000\n",
       "75%          18.990000\n",
       "max         300.000000\n",
       "Name: price, dtype: float64"
      ]
     },
     "execution_count": 21,
     "metadata": {},
     "output_type": "execute_result"
    }
   ],
   "source": [
    "## central tendency\n",
    "dataProductsTransactionsCustomersLeft['price'].describe()"
   ]
  },
  {
   "cell_type": "code",
   "execution_count": 22,
   "id": "331d2e87-50a6-4144-8801-306868d3c4e9",
   "metadata": {},
   "outputs": [],
   "source": [
    "### anything above 19$ is outlier? rerun lorenz/gini w prices 0-19\n",
    "dataProductsTransactionsCustomersLeftPriceLess19=dataProductsTransactionsCustomersLeft[dataProductsTransactionsCustomersLeft['price'] < 32]"
   ]
  },
  {
   "cell_type": "code",
   "execution_count": 23,
   "id": "f8d00006-ce13-4c1a-9977-25f663a1c39d",
   "metadata": {},
   "outputs": [
    {
     "data": {
      "text/plain": [
       "count    315463.000000\n",
       "mean         13.670407\n",
       "std           6.754064\n",
       "min           0.620000\n",
       "25%           8.090000\n",
       "50%          12.990000\n",
       "75%          17.990000\n",
       "max          31.990000\n",
       "Name: price, dtype: float64"
      ]
     },
     "execution_count": 23,
     "metadata": {},
     "output_type": "execute_result"
    }
   ],
   "source": [
    "### remove anything above 40$ and do lorenz curve 0-40$ and see the gini coefficient \n",
    "dataProductsTransactionsCustomersLeftPriceLess19['price'].describe()"
   ]
  },
  {
   "cell_type": "code",
   "execution_count": 24,
   "id": "4a9f3a4e-4903-4ab9-b093-8ec9f6478336",
   "metadata": {},
   "outputs": [
    {
     "data": {
      "text/plain": [
       "<AxesSubplot:>"
      ]
     },
     "execution_count": 24,
     "metadata": {},
     "output_type": "execute_result"
    },
    {
     "data": {
      "image/png": "[encoded data removed]",
      "text/plain": [
       "<Figure size 432x288 with 1 Axes>"
      ]
     },
     "metadata": {
      "needs_background": "light"
     },
     "output_type": "display_data"
    }
   ],
   "source": [
    "dataProductsTransactionsCustomersLeftPriceLess19.boxplot(column='price')"
   ]
  },
  {
   "cell_type": "code",
   "execution_count": 25,
   "id": "663ec108-a435-473f-995c-679150cfb4c0",
   "metadata": {},
   "outputs": [
    {
     "data": {
      "image/png": "[encoded data removed]",
      "text/plain": [
       "<Figure size 432x288 with 1 Axes>"
      ]
     },
     "metadata": {
      "needs_background": "light"
     },
     "output_type": "display_data"
    }
   ],
   "source": [
    "#### lorenz + gini on price 0-19\n",
    "price19 = dataProductsTransactionsCustomersLeftPriceLess19[dataProductsTransactionsCustomersLeftPriceLess19['price'] > 0]\n",
    "price19Only = price19.price\n",
    "lorenzCurve19,size19 = lorenzCurve(price19Only)"
   ]
  },
  {
   "cell_type": "code",
   "execution_count": 26,
   "id": "d29c2880-ea6a-4929-b27c-81e4a66c5b6a",
   "metadata": {},
   "outputs": [
    {
     "data": {
      "text/plain": [
       "0.28016651177326046"
      ]
     },
     "execution_count": 26,
     "metadata": {},
     "output_type": "execute_result"
    }
   ],
   "source": [
    "gini(lorenzCurve19,size19)"
   ]
  },
  {
   "cell_type": "code",
   "execution_count": 27,
   "id": "d57bd70d-0652-4df3-add2-77567a354597",
   "metadata": {},
   "outputs": [
    {
     "data": {
      "text/plain": [
       "<AxesSubplot:xlabel='Month', ylabel='price'>"
      ]
     },
     "execution_count": 27,
     "metadata": {},
     "output_type": "execute_result"
    },
    {
     "data": {
      "image/png": "[encoded data removed]",
      "text/plain": [
       "<Figure size 432x288 with 1 Axes>"
      ]
     },
     "metadata": {
      "needs_background": "light"
     },
     "output_type": "display_data"
    }
   ],
   "source": [
    "### time series graph (i.e a graph in which the abscissa axis represents dates).\n",
    "sns.lineplot(data=dataProductsTransactionsCustomersLeftPriceLess19,x='Month',y='price')"
   ]
  },
  {
   "cell_type": "code",
   "execution_count": 28,
   "id": "02157ecd-2435-4e13-89f7-f01f150eda32",
   "metadata": {},
   "outputs": [
    {
     "data": {
      "text/plain": [
       "<AxesSubplot:xlabel='Day', ylabel='price'>"
      ]
     },
     "execution_count": 28,
     "metadata": {},
     "output_type": "execute_result"
    },
    {
     "data": {
      "image/png": "[encoded data removed]",
      "text/plain": [
       "<Figure size 432x288 with 1 Axes>"
      ]
     },
     "metadata": {
      "needs_background": "light"
     },
     "output_type": "display_data"
    }
   ],
   "source": [
    "sns.lineplot(data=dataProductsTransactionsCustomersLeftPriceLess19,x='Day',y='price')"
   ]
  },
  {
   "cell_type": "code",
   "execution_count": 45,
   "id": "bf6f6faf-9f9d-49b3-a183-82a640beb370",
   "metadata": {},
   "outputs": [],
   "source": [
    "### Bivariate analyses."
   ]
  },
  {
   "cell_type": "code",
   "execution_count": 29,
   "id": "d937e09a-ebd1-4f33-ac1d-bf5b52754ef3",
   "metadata": {},
   "outputs": [
    {
     "data": {
      "text/plain": [
       "<AxesSubplot:xlabel='birth', ylabel='Count'>"
      ]
     },
     "execution_count": 29,
     "metadata": {},
     "output_type": "execute_result"
    },
    {
     "data": {
      "image/png": "[encoded data removed]",
      "text/plain": [
       "<Figure size 432x288 with 1 Axes>"
      ]
     },
     "metadata": {
      "needs_background": "light"
     },
     "output_type": "display_data"
    }
   ],
   "source": [
    "sns.histplot(data=dataProductsTransactionsCustomersLeftPriceLess19, x='birth', hue='sex')\n",
    "## follow up is this the same customer buying a lot??"
   ]
  },
  {
   "cell_type": "code",
   "execution_count": 30,
   "id": "4a38a7ae-0683-4f84-bbac-562316633aca",
   "metadata": {},
   "outputs": [
    {
     "data": {
      "text/plain": [
       "<AxesSubplot:xlabel='Day', ylabel='Count'>"
      ]
     },
     "execution_count": 30,
     "metadata": {},
     "output_type": "execute_result"
    },
    {
     "data": {
      "image/png": "[encoded data removed]",
      "text/plain": [
       "<Figure size 432x288 with 1 Axes>"
      ]
     },
     "metadata": {
      "needs_background": "light"
     },
     "output_type": "display_data"
    }
   ],
   "source": [
    "sns.histplot(data=dataProductsTransactionsCustomersLeftPriceLess19, x='Day', hue='sex')"
   ]
  },
  {
   "cell_type": "code",
   "execution_count": 49,
   "id": "60b27eb4-e4a5-407d-aeb3-83be2a283c5c",
   "metadata": {},
   "outputs": [
    {
     "data": {
      "text/plain": [
       "(25.004941969879567,\n",
       " 3.717456035886804e-06,\n",
       " 2,\n",
       " array([[1.04392247e+05, 1.04911753e+05],\n",
       "        [5.29412693e+04, 5.32047307e+04],\n",
       "        [6.48386657e+00, 6.51613343e+00]]))"
      ]
     },
     "execution_count": 49,
     "metadata": {},
     "output_type": "execute_result"
    },
    {
     "data": {
      "image/png": "[encoded data removed]",
      "text/plain": [
       "<Figure size 432x288 with 1 Axes>"
      ]
     },
     "metadata": {
      "needs_background": "light"
     },
     "output_type": "display_data"
    }
   ],
   "source": [
    "############# TASK 3 ##########################\n",
    "\n",
    "from scipy import stats\n",
    "## Is there a correlation between gender and categories of products purchased? (gender qualitative, product qualitative)\n",
    "#dataProductsTransactionsCustomersLeftPriceLess19.corr(method='pearson') -- didnt tell me anything\n",
    "df = dataProductsTransactionsCustomersLeftPriceLess19\n",
    "sns.histplot(data=dataProductsTransactionsCustomersLeftPriceLess19, x='categ', bins=3, hue='sex')\n",
    "sns.histplot(data=dataProductsTransactionsCustomersLeft, x='categ', bins=3, hue='sex')\n",
    "### Conclusion -> noticed that categ 2 is now missing, is it because its higher than 32$? must be.\n",
    "\n",
    "## Use CHI Square\n",
    "crosstab = pd.crosstab(df['categ'], df['sex'])\n",
    "stats.chi2_contingency(crosstab)\n",
    "\n",
    "# Conclusion We can reject the null hypothesis as the p-value is less than 0.05 (h0 = there is no relationship bewteen gender and categories)\n",
    "# there is correlation b/w gender and categoeis"
   ]
  },
  {
   "cell_type": "code",
   "execution_count": 80,
   "id": "1c47a07e-eaf4-447e-99a2-1fd9e544acae",
   "metadata": {},
   "outputs": [
    {
     "data": {
      "text/plain": [
       "<AxesSubplot:xlabel='categ', ylabel='Count'>"
      ]
     },
     "execution_count": 80,
     "metadata": {},
     "output_type": "execute_result"
    },
    {
     "data": {
      "image/png": "[encoded data removed]",
      "text/plain": [
       "<Figure size 432x288 with 1 Axes>"
      ]
     },
     "metadata": {
      "needs_background": "light"
     },
     "output_type": "display_data"
    }
   ],
   "source": []
  },
  {
   "cell_type": "code",
   "execution_count": 43,
   "id": "820f6c15-17b1-4de9-aa70-7192e4be850d",
   "metadata": {},
   "outputs": [],
   "source": [
    "## LinearRegression (2 quantitative)\n",
    "## ANOVA (1 quantitative, 1 qualitative)\n",
    "## ChiSquared (relationship b/w 2 qualitative variables, frequency or count)\n",
    "## r^2 - correlated - 0 unrelated, 1 perfectly related \n",
    "## eta^2 - what portion of relation is specific to this one variable\n",
    "## xi_n "
   ]
  },
  {
   "cell_type": "code",
   "execution_count": 51,
   "id": "cb168efa-716d-42a6-b95a-2aafa8402572",
   "metadata": {},
   "outputs": [
    {
     "name": "stdout",
     "output_type": "stream",
     "text": [
      "Eta-Squared (η²): 0.6000951467473872\n"
     ]
    },
    {
     "data": {
      "image/png": "[encoded data removed]",
      "text/plain": [
       "<Figure size 432x288 with 1 Axes>"
      ]
     },
     "metadata": {
      "needs_background": "light"
     },
     "output_type": "display_data"
    }
   ],
   "source": [
    "## correlation of age (age qualitative) and total $ amount of purchases? (amount of purchases : quantitative)\n",
    "## use ANOVA \n",
    "import statsmodels.api as sm\n",
    "from datetime import datetime\n",
    "import statsmodels.api as sm\n",
    "from statsmodels.formula.api import ols\n",
    "\n",
    "current_year = datetime.now().year\n",
    "dataProductsTransactionsCustomersLeft['age'] = current_year - dataProductsTransactionsCustomersLeft['birth']\n",
    "\n",
    "age_data = dataProductsTransactionsCustomersLeft.groupby(['age']).agg({'price': 'sum'}).reset_index()\n",
    "age_data = age_data.rename(columns={'price': 'total_amount'})\n",
    "#print(age_data.head(5))\n",
    "\n",
    "sns.scatterplot(data=age_data, x='age',y='total_amount')\n",
    "\n",
    "# use eta sq to determine how related age is to total purchase amount \n",
    "# Perform one-way ANOVA\n",
    "model = ols('total_amount ~ age', data=age_data).fit()\n",
    "anova_table = sm.stats.anova_lm(model, typ=2)\n",
    "\n",
    "# Calculate eta-squared\n",
    "eta_squared = anova_table['sum_sq']['age'] / (anova_table['sum_sq']['age'] + anova_table['sum_sq']['Residual'])\n",
    "\n",
    "print(\"Eta-Squared (η²):\", eta_squared)\n",
    "# ETA is .6 meaning age predicts spend more than half the time. they are highly correlated \n"
   ]
  },
  {
   "cell_type": "code",
   "execution_count": 54,
   "id": "d363ad96-59bf-41f2-bd4e-9fa684137166",
   "metadata": {},
   "outputs": [
    {
     "name": "stdout",
     "output_type": "stream",
     "text": [
      "Eta-Squared (η²): 0.04474462855734159\n"
     ]
    }
   ],
   "source": [
    "# age and average basket size (in number of items)?\n",
    "# age qualitative, basket size quantitative\n",
    "# basket size -> \n",
    "df = dataProductsTransactionsCustomersLeft\n",
    "basket_size = df.groupby(['Day','Month', 'Year','age','sex','client_id','session_id']).agg({'price': 'count'}).reset_index()\n",
    "basket_size = df.rename(columns={'price': 'basket_size'})\n",
    "#print(basket_size.head(2))\n",
    "\n",
    "#sns.scatterplot(data=basket_size, x='age',y='basket_size')\n",
    "## use eta/anova\n",
    "#plt.figure(figsize=(10,6))\n",
    "#sns.boxplot(x=\"age\", y=\"basket_size\", data=basket_size)\n",
    "\n",
    "# Perform one-way ANOVA\n",
    "model = ols('basket_size ~ age', data=basket_size).fit()\n",
    "anova_table = sm.stats.anova_lm(model, typ=2)\n",
    "\n",
    "# Calculate eta-squared\n",
    "eta_squared = anova_table['sum_sq']['age'] / (anova_table['sum_sq']['age'] + anova_table['sum_sq']['Residual'])\n",
    "\n",
    "print(\"Eta-Squared (η²):\", eta_squared)\n",
    "# so age DOES NOT predict basket size"
   ]
  },
  {
   "cell_type": "code",
   "execution_count": 67,
   "id": "baf03dd0-420a-4790-9a91-97ff6ab226ac",
   "metadata": {},
   "outputs": [
    {
     "data": {
      "text/plain": [
       "(153915.5289559564,\n",
       " 0.0,\n",
       " 150,\n",
       " array([[4.57024899e+03, 1.35714253e+03, 1.38264337e+03, 1.26384675e+03,\n",
       "         1.35216675e+03, 3.10923717e+03, 1.46536563e+03, 1.43426703e+03,\n",
       "         1.83046309e+03, 1.72970365e+03, 1.52942872e+03, 1.35154478e+03,\n",
       "         1.83543886e+03, 5.27183321e+03, 5.54674476e+03, 5.05787490e+03,\n",
       "         7.71618249e+03, 6.05302983e+03, 7.35046306e+03, 4.53541857e+03,\n",
       "         6.36401574e+03, 6.61156053e+03, 6.28315940e+03, 5.77749631e+03,\n",
       "         1.48514433e+04, 7.72364616e+03, 7.63159433e+03, 6.23029180e+03,\n",
       "         5.38378814e+03, 5.62635715e+03, 6.02939490e+03, 5.19159885e+03,\n",
       "         4.87999096e+03, 2.83308167e+03, 2.95001238e+03, 4.42781744e+03,\n",
       "         5.54674476e+03, 2.56252393e+03, 2.14207097e+03, 2.53515717e+03,\n",
       "         2.63778252e+03, 1.87213520e+03, 1.89390422e+03, 9.16164502e+02,\n",
       "         2.02700619e+03, 1.76204619e+03, 1.74836281e+03, 1.66501858e+03,\n",
       "         2.65457576e+03, 1.58416224e+03, 1.32106816e+03, 1.49895210e+03,\n",
       "         1.04180281e+03, 8.47125629e+02, 9.93289009e+02, 1.02376563e+03,\n",
       "         6.83547039e+02, 5.13748730e+02, 5.21834363e+02, 5.87763377e+02,\n",
       "         3.44572393e+02, 3.53901970e+02, 7.17755489e+02, 5.70970138e+02,\n",
       "         4.21074927e+02, 4.70832674e+02, 2.68069858e+02, 2.82375210e+02,\n",
       "         2.40703097e+02, 8.89419714e+01, 1.70420281e+02, 1.01381408e+02,\n",
       "         9.88935206e+01, 5.22456335e+01, 7.15267602e+01, 5.34895772e+01],\n",
       "        [2.39471829e+03, 7.11115312e+02, 7.24477240e+02, 6.62230208e+02,\n",
       "         7.08508106e+02, 1.62917756e+03, 7.67822032e+02, 7.51526998e+02,\n",
       "         9.59125739e+02, 9.06329827e+02, 8.01389804e+02, 7.08182206e+02,\n",
       "         9.61732945e+02, 2.76233427e+03, 2.90638238e+03, 2.65022443e+03,\n",
       "         4.04312400e+03, 3.17166554e+03, 3.85149439e+03, 2.37646785e+03,\n",
       "         3.33461589e+03, 3.46432437e+03, 3.29224880e+03, 3.02729154e+03,\n",
       "         7.78185674e+03, 4.04703480e+03, 3.99880150e+03, 3.26454724e+03,\n",
       "         2.82099640e+03, 2.94809767e+03, 3.15928132e+03, 2.72029308e+03,\n",
       "         2.55701684e+03, 1.48447766e+03, 1.54574699e+03, 2.32008703e+03,\n",
       "         2.90638238e+03, 1.34271085e+03, 1.12240199e+03, 1.32837122e+03,\n",
       "         1.38214484e+03, 9.80961086e+02, 9.92367610e+02, 4.80051721e+02,\n",
       "         1.06211036e+03, 9.23276663e+02, 9.16106848e+02, 8.72436155e+02,\n",
       "         1.39094416e+03, 8.30069065e+02, 6.92213072e+02, 7.85420670e+02,\n",
       "         5.45883661e+02, 4.43876744e+02, 5.20463407e+02, 5.36432540e+02,\n",
       "         3.58164861e+02, 2.69193972e+02, 2.73430681e+02, 3.07976155e+02,\n",
       "         1.80548984e+02, 1.85437494e+02, 3.76089400e+02, 2.99176836e+02,\n",
       "         2.20634769e+02, 2.46706825e+02, 1.40463199e+02, 1.47958915e+02,\n",
       "         1.26123568e+02, 4.66037991e+01, 8.92967898e+01, 5.31218129e+01,\n",
       "         5.18182102e+01, 2.73756582e+01, 3.74785797e+01, 2.80274596e+01],\n",
       "        [3.83032719e+02, 1.13742160e+02, 1.15879387e+02, 1.05923038e+02,\n",
       "         1.13325140e+02, 2.60585270e+02, 1.22812342e+02, 1.20205968e+02,\n",
       "         1.53411172e+02, 1.44966520e+02, 1.28181472e+02, 1.13273013e+02,\n",
       "         1.53828192e+02, 4.41832516e+02, 4.64872862e+02, 4.23900663e+02,\n",
       "         6.46693510e+02, 5.07304630e+02, 6.16042553e+02, 3.80113580e+02,\n",
       "         5.33368370e+02, 5.54115107e+02, 5.26591798e+02, 4.84212157e+02,\n",
       "         1.24469996e+03, 6.47319040e+02, 6.39604173e+02, 5.22160962e+02,\n",
       "         4.51215462e+02, 4.71545179e+02, 5.05323786e+02, 4.35108071e+02,\n",
       "         4.08992204e+02, 2.37440669e+02, 2.47240635e+02, 3.71095526e+02,\n",
       "         4.64872862e+02, 2.14765215e+02, 1.79527039e+02, 2.12471606e+02,\n",
       "         2.21072640e+02, 1.56903713e+02, 1.58728175e+02, 7.67837773e+01,\n",
       "         1.69883456e+02, 1.47677149e+02, 1.46530345e+02, 1.39545263e+02,\n",
       "         2.22480082e+02, 1.32768690e+02, 1.10718766e+02, 1.25627226e+02,\n",
       "         8.73135281e+01, 7.09976271e+01, 8.32475847e+01, 8.58018312e+01,\n",
       "         5.72881000e+01, 4.30572981e+01, 4.37349553e+01, 4.92604681e+01,\n",
       "         2.88786236e+01, 2.96605358e+01, 6.01551113e+01, 4.78530262e+01,\n",
       "         3.52903036e+01, 3.94605020e+01, 2.24669437e+01, 2.36658757e+01,\n",
       "         2.01733346e+01, 7.45422957e+00, 1.42829294e+01, 8.49677916e+00,\n",
       "         8.28826924e+00, 4.37870828e+00, 5.99466014e+00, 4.48296324e+00]]))"
      ]
     },
     "execution_count": 67,
     "metadata": {},
     "output_type": "execute_result"
    }
   ],
   "source": [
    "# age and Categories of purchased products?\n",
    "# age qualitative, categories qualitative\n",
    "# chi sq\n",
    "\n",
    "from scipy import stats\n",
    "df = dataProductsTransactionsCustomersLeft\n",
    "crosstab = pd.crosstab(df['categ'], df['age'])\n",
    "#print(crosstab)\n",
    "stats.chi2_contingency(crosstab)\n",
    "\n",
    "# Conclusion CHI - p is 0 means there is a high relatiosnip b/w age and categories.\n",
    "\n",
    "## keep the histplot for decades and categories "
   ]
  },
  {
   "cell_type": "code",
   "execution_count": 66,
   "id": "1c77e8f3-b157-451f-ac9b-5d28cb62bcf5",
   "metadata": {},
   "outputs": [
    {
     "name": "stdout",
     "output_type": "stream",
     "text": [
      "Eta-Squared (η²): 0.2801443038110604\n"
     ]
    },
    {
     "data": {
      "text/plain": [
       "(29310.370209180128,\n",
       " 0.0,\n",
       " 75,\n",
       " array([[9.43997795e+01, 7.27360022e+03],\n",
       "        [2.82251241e+01, 2.17477488e+03],\n",
       "        [2.87632336e+01, 2.21623677e+03],\n",
       "        [2.63289287e+01, 2.02867107e+03],\n",
       "        [2.81610634e+01, 2.16983894e+03],\n",
       "        [6.43681450e+01, 4.95963186e+03],\n",
       "        [3.05184955e+01, 2.35148150e+03],\n",
       "        [2.98907011e+01, 2.30310930e+03],\n",
       "        [3.80648405e+01, 2.93293516e+03],\n",
       "        [3.60020875e+01, 2.77399791e+03],\n",
       "        [3.18893935e+01, 2.45711061e+03],\n",
       "        [2.82379362e+01, 2.17576206e+03],\n",
       "        [3.82185861e+01, 2.94478141e+03],\n",
       "        [1.09018421e+02, 8.39998158e+03],\n",
       "        [1.14694195e+02, 8.83730581e+03],\n",
       "        [1.04636672e+02, 8.06236333e+03],\n",
       "        [1.59408531e+02, 1.22825915e+04],\n",
       "        [1.25161706e+02, 9.64383829e+03],\n",
       "        [1.51900622e+02, 1.17040994e+04],\n",
       "        [9.39257307e+01, 7.23707427e+03],\n",
       "        [1.31606207e+02, 1.01403938e+04],\n",
       "        [1.36718247e+02, 1.05342818e+04],\n",
       "        [1.29966255e+02, 1.00140337e+04],\n",
       "        [1.19562804e+02, 9.21243720e+03],\n",
       "        [3.06491792e+02, 2.36155082e+04],\n",
       "        [1.59677586e+02, 1.23033224e+04],\n",
       "        [1.57794203e+02, 1.21582058e+04],\n",
       "        [1.28941284e+02, 9.93505872e+03],\n",
       "        [1.11516786e+02, 8.59248321e+03],\n",
       "        [1.16526329e+02, 8.97847367e+03],\n",
       "        [1.24841402e+02, 9.61915860e+03],\n",
       "        [1.07596274e+02, 8.29040373e+03],\n",
       "        [1.01190209e+02, 7.79680979e+03],\n",
       "        [5.90382986e+01, 4.54896170e+03],\n",
       "        [6.14597913e+01, 4.73554021e+03],\n",
       "        [9.19142262e+01, 7.08208577e+03],\n",
       "        [1.14976062e+02, 8.85902394e+03],\n",
       "        [5.35162702e+01, 4.12348373e+03],\n",
       "        [4.48680820e+01, 3.45713192e+03],\n",
       "        [5.29781607e+01, 4.08202184e+03],\n",
       "        [5.51049744e+01, 4.24589503e+03],\n",
       "        [3.93460536e+01, 3.03165395e+03],\n",
       "        [3.98072903e+01, 3.06719271e+03],\n",
       "        [1.96794329e+01, 1.51632057e+03],\n",
       "        [4.25747106e+01, 3.28042529e+03],\n",
       "        [3.71295550e+01, 2.86087045e+03],\n",
       "        [3.68605002e+01, 2.84013950e+03],\n",
       "        [3.51564868e+01, 2.70884351e+03],\n",
       "        [5.55533990e+01, 4.28044660e+03],\n",
       "        [3.35165341e+01, 2.58248347e+03],\n",
       "        [2.81098149e+01, 2.16589019e+03],\n",
       "        [3.17868964e+01, 2.44921310e+03],\n",
       "        [2.23827925e+01, 1.72461721e+03],\n",
       "        [1.83854077e+01, 1.41661459e+03],\n",
       "        [2.14090705e+01, 1.64959093e+03],\n",
       "        [2.20496771e+01, 1.69895032e+03],\n",
       "        [1.50542537e+01, 1.15994575e+03],\n",
       "        [1.15693541e+01, 8.91430646e+02],\n",
       "        [1.17487239e+01, 9.05251276e+02],\n",
       "        [1.31196219e+01, 1.01088038e+03],\n",
       "        [8.12289091e+00, 6.25877109e+02],\n",
       "        [8.32788500e+00, 6.41672115e+02],\n",
       "        [1.58357936e+01, 1.22016421e+03],\n",
       "        [1.28249429e+01, 9.88175057e+02],\n",
       "        [9.75003152e+00, 7.51249968e+02],\n",
       "        [1.07878141e+01, 8.31212186e+02],\n",
       "        [6.62387161e+00, 5.10376128e+02],\n",
       "        [6.93136275e+00, 5.34068637e+02],\n",
       "        [6.08576212e+00, 4.68914238e+02],\n",
       "        [2.97241434e+00, 2.29027586e+02],\n",
       "        [4.66361560e+00, 3.59336384e+02],\n",
       "        [3.25428122e+00, 2.50745719e+02],\n",
       "        [3.21584482e+00, 2.47784155e+02],\n",
       "        [2.26774715e+00, 1.74732253e+02],\n",
       "        [2.67773533e+00, 2.06322265e+02],\n",
       "        [2.31899567e+00, 1.78681004e+02]]))"
      ]
     },
     "execution_count": 66,
     "metadata": {},
     "output_type": "execute_result"
    }
   ],
   "source": [
    "## Age and  purchase frequency (age qualitative, purchase frequnecy qualitative? or quantitative ? check which one makes more sense )\n",
    "## frequency is per month (across all years together)\n",
    "\n",
    "df = dataProductsTransactionsCustomersLeft\n",
    "#monthly_data = df.groupby(['Month','age']).agg({'price': 'count'}).reset_index()\n",
    "monthly_data = df.groupby(['age']).agg({'price': 'count'}).reset_index()\n",
    "monthly_data = monthly_data.rename(columns={'price': 'purchase_count'})\n",
    "#print(monthly_data.head(2))\n",
    "\n",
    "# Perform one-way ANOVA\n",
    "model = ols('purchase_count ~ age', data=monthly_data).fit()\n",
    "anova_table = sm.stats.anova_lm(model, typ=2)\n",
    "\n",
    "# Calculate eta-squared\n",
    "eta_squared = anova_table['sum_sq']['age'] / (anova_table['sum_sq']['age'] + anova_table['sum_sq']['Residual'])\n",
    "\n",
    "print(\"Eta-Squared (η²):\", eta_squared)\n",
    "# Conclusion ETA - age and frequency are related - eta is .28\n",
    "\n",
    "#use CHIsquared\n",
    "crosstab = pd.crosstab(monthly_data['age'], monthly_data['purchase_count'])\n",
    "#print(crosstab)\n",
    "stats.chi2_contingency(monthly_data)\n",
    "# Conclusion CHI - age and frquency are related - p is 0?"
   ]
  },
  {
   "cell_type": "code",
   "execution_count": null,
   "id": "29112fe6-2e5c-4454-9033-5a6f32cdf787",
   "metadata": {},
   "outputs": [],
   "source": []
  }
 ],
 "metadata": {
  "kernelspec": {
   "display_name": "Python 3 (ipykernel)",
   "language": "python",
   "name": "python3"
  },
  "language_info": {
   "codemirror_mode": {
    "name": "ipython",
    "version": 3
   },
   "file_extension": ".py",
   "mimetype": "text/x-python",
   "name": "python",
   "nbconvert_exporter": "python",
   "pygments_lexer": "ipython3",
   "version": "3.9.7"
  }
 },
 "nbformat": 4,
 "nbformat_minor": 5
}
