{
 "cells": [
  {
   "cell_type": "code",
   "execution_count": 1,
   "id": "6fffef72-dbd2-4291-8cc3-c0c2e5e95fb0",
   "metadata": {},
   "outputs": [],
   "source": [
    "### cleanse customers \n",
    "\n",
    "import pandas as pd\n",
    "import seaborn as sns\n",
    "\n",
    "def summaryOfData(file, *s):\n",
    "    print(\"DESCRIBE\\n\",file.describe(), \"\\n\")\n",
    "    print(\"TYPES\\n\\n\",file.dtypes, \"\\n\")\n",
    "    print(\"SHAPE\\n\\n\",file.shape, \"\\n\")\n",
    "    print(\"INFO\\n\\n\", file.info(), \"\\n\")\n",
    "    ###print(\"VALUE COUNTS\\n\\n\", file[s].value_counts(), \"\\n\")\n",
    "    print(\"UNIQUE\\n\\n\",file.nunique(), \"\\n\")\n",
    "    print(\"IS NA SUM\\n\\n\",file.isna().sum(), \"\\n\")\n",
    "    print(\"IS DUP \\n\\n\",file[file.duplicated()], \"\\n\")\n",
    "        "
   ]
  },
  {
   "cell_type": "code",
   "execution_count": 2,
   "id": "bbeef9d0-7504-49f7-bcda-94f3ae31ce9a",
   "metadata": {},
   "outputs": [
    {
     "name": "stdout",
     "output_type": "stream",
     "text": [
      "  client_id sex  birth\n",
      "0    c_4410   f   1967\n",
      "1    c_7839   f   1975\n",
      "2    c_1699   f   1984\n",
      "3    c_5961   f   1962\n",
      "4    c_5320   m   1943\n",
      "DESCRIBE\n",
      "              birth\n",
      "count  8623.000000\n",
      "mean   1978.280877\n",
      "std      16.919535\n",
      "min    1929.000000\n",
      "25%    1966.000000\n",
      "50%    1979.000000\n",
      "75%    1992.000000\n",
      "max    2004.000000 \n",
      "\n",
      "TYPES\n",
      "\n",
      " client_id    object\n",
      "sex          object\n",
      "birth         int64\n",
      "dtype: object \n",
      "\n",
      "SHAPE\n",
      "\n",
      " (8623, 3) \n",
      "\n",
      "<class 'pandas.core.frame.DataFrame'>\n",
      "RangeIndex: 8623 entries, 0 to 8622\n",
      "Data columns (total 3 columns):\n",
      " #   Column     Non-Null Count  Dtype \n",
      "---  ------     --------------  ----- \n",
      " 0   client_id  8623 non-null   object\n",
      " 1   sex        8623 non-null   object\n",
      " 2   birth      8623 non-null   int64 \n",
      "dtypes: int64(1), object(2)\n",
      "memory usage: 202.2+ KB\n",
      "INFO\n",
      "\n",
      " None \n",
      "\n",
      "UNIQUE\n",
      "\n",
      " client_id    8623\n",
      "sex             2\n",
      "birth          76\n",
      "dtype: int64 \n",
      "\n",
      "IS NA SUM\n",
      "\n",
      " client_id    0\n",
      "sex          0\n",
      "birth        0\n",
      "dtype: int64 \n",
      "\n",
      "IS DUP \n",
      "\n",
      " Empty DataFrame\n",
      "Columns: [client_id, sex, birth]\n",
      "Index: [] \n",
      "\n",
      "  id_prod  price  categ\n",
      "0  0_1421  19.99      0\n",
      "1  0_1368   5.13      0\n",
      "2   0_731  17.99      0\n",
      "3   1_587   4.99      1\n",
      "4  0_1507   3.99      0\n",
      "DESCRIBE\n",
      "              price        categ\n",
      "count  3287.000000  3287.000000\n",
      "mean     21.856641     0.370246\n",
      "std      29.847908     0.615387\n",
      "min      -1.000000     0.000000\n",
      "25%       6.990000     0.000000\n",
      "50%      13.060000     0.000000\n",
      "75%      22.990000     1.000000\n",
      "max     300.000000     2.000000 \n",
      "\n",
      "TYPES\n",
      "\n",
      " id_prod     object\n",
      "price      float64\n",
      "categ        int64\n",
      "dtype: object \n",
      "\n",
      "SHAPE\n",
      "\n",
      " (3287, 3) \n",
      "\n",
      "<class 'pandas.core.frame.DataFrame'>\n",
      "RangeIndex: 3287 entries, 0 to 3286\n",
      "Data columns (total 3 columns):\n",
      " #   Column   Non-Null Count  Dtype  \n",
      "---  ------   --------------  -----  \n",
      " 0   id_prod  3287 non-null   object \n",
      " 1   price    3287 non-null   float64\n",
      " 2   categ    3287 non-null   int64  \n",
      "dtypes: float64(1), int64(1), object(1)\n",
      "memory usage: 77.2+ KB\n",
      "INFO\n",
      "\n",
      " None \n",
      "\n",
      "UNIQUE\n",
      "\n",
      " id_prod    3287\n",
      "price      1455\n",
      "categ         3\n",
      "dtype: int64 \n",
      "\n",
      "IS NA SUM\n",
      "\n",
      " id_prod    0\n",
      "price      0\n",
      "categ      0\n",
      "dtype: int64 \n",
      "\n",
      "IS DUP \n",
      "\n",
      " Empty DataFrame\n",
      "Columns: [id_prod, price, categ]\n",
      "Index: [] \n",
      "\n",
      "what are the category counts: \n",
      " 0    2309\n",
      "1     739\n",
      "2     239\n",
      "Name: categ, dtype: int64\n"
     ]
    }
   ],
   "source": [
    "dataCustomers=pd.read_csv(\"customers.csv\")\n",
    "print(dataCustomers.head())\n",
    "summaryOfData(dataCustomers)\n",
    "## Conclusion - nothing to clean for Customers. \n",
    "\n",
    "### cleanse products\n",
    "dataProducts = pd.read_csv(\"products.csv\")\n",
    "print(dataProducts.head())\n",
    "summaryOfData(dataProducts)\n",
    "print('what are the category counts: \\n',dataProducts.categ.value_counts())"
   ]
  },
  {
   "cell_type": "code",
   "execution_count": 4,
   "id": "dd1636fd-db44-4651-8c98-a0b5a91693fa",
   "metadata": {},
   "outputs": [
    {
     "name": "stdout",
     "output_type": "stream",
     "text": [
      "  id_prod                        date session_id client_id\n",
      "0  0_1483  2021-04-10 18:37:28.723910    s_18746    c_4450\n",
      "1   2_226  2022-02-03 01:55:53.276402   s_159142     c_277\n",
      "2   1_374  2021-09-23 15:13:46.938559    s_94290    c_4270\n",
      "3  0_2186  2021-10-17 03:27:18.783634   s_105936    c_4597\n",
      "4  0_1351  2021-07-17 20:34:25.800563    s_63642    c_1242\n",
      "DESCRIBE\n",
      "        id_prod                             date session_id client_id\n",
      "count   337016                           337016     337016    337016\n",
      "unique    3266                           336855     169195      8602\n",
      "top      1_369  test_2021-03-01 02:30:02.237413        s_0    c_1609\n",
      "freq      1081                               13        200     12855 \n",
      "\n",
      "TYPES\n",
      "\n",
      " id_prod       object\n",
      "date          object\n",
      "session_id    object\n",
      "client_id     object\n",
      "dtype: object \n",
      "\n",
      "SHAPE\n",
      "\n",
      " (337016, 4) \n",
      "\n",
      "<class 'pandas.core.frame.DataFrame'>\n",
      "RangeIndex: 337016 entries, 0 to 337015\n",
      "Data columns (total 4 columns):\n",
      " #   Column      Non-Null Count   Dtype \n",
      "---  ------      --------------   ----- \n",
      " 0   id_prod     337016 non-null  object\n",
      " 1   date        337016 non-null  object\n",
      " 2   session_id  337016 non-null  object\n",
      " 3   client_id   337016 non-null  object\n",
      "dtypes: object(4)\n",
      "memory usage: 10.3+ MB\n",
      "INFO\n",
      "\n",
      " None \n",
      "\n",
      "UNIQUE\n",
      "\n",
      " id_prod         3266\n",
      "date          336855\n",
      "session_id    169195\n",
      "client_id       8602\n",
      "dtype: int64 \n",
      "\n",
      "IS NA SUM\n",
      "\n",
      " id_prod       0\n",
      "date          0\n",
      "session_id    0\n",
      "client_id     0\n",
      "dtype: int64 \n",
      "\n",
      "IS DUP \n",
      "\n",
      "        id_prod                             date session_id client_id\n",
      "34387      T_0  test_2021-03-01 02:30:02.237443        s_0      ct_0\n",
      "54813      T_0  test_2021-03-01 02:30:02.237412        s_0      ct_1\n",
      "57261      T_0  test_2021-03-01 02:30:02.237439        s_0      ct_1\n",
      "58802      T_0  test_2021-03-01 02:30:02.237429        s_0      ct_0\n",
      "60170      T_0  test_2021-03-01 02:30:02.237446        s_0      ct_0\n",
      "...        ...                              ...        ...       ...\n",
      "332594     T_0  test_2021-03-01 02:30:02.237445        s_0      ct_0\n",
      "332705     T_0  test_2021-03-01 02:30:02.237423        s_0      ct_1\n",
      "332730     T_0  test_2021-03-01 02:30:02.237421        s_0      ct_1\n",
      "333442     T_0  test_2021-03-01 02:30:02.237431        s_0      ct_1\n",
      "335279     T_0  test_2021-03-01 02:30:02.237430        s_0      ct_0\n",
      "\n",
      "[126 rows x 4 columns] \n",
      "\n"
     ]
    }
   ],
   "source": [
    "### cleanse transactions\n",
    "dataTransactions = pd.read_csv(\"transactions.csv\")\n",
    "print(dataTransactions.head())\n",
    "summaryOfData(dataTransactions) ## need to modify function - bc date is really what we should compare against"
   ]
  },
  {
   "cell_type": "code",
   "execution_count": 5,
   "id": "311496c7-8260-42ae-93a0-f5dc65407c00",
   "metadata": {},
   "outputs": [
    {
     "name": "stdout",
     "output_type": "stream",
     "text": [
      "    id_prod  price  categ\n",
      "731     T_0   -1.0      0\n",
      "    id_prod  price  categ\n",
      "731     T_0    0.0      0\n"
     ]
    }
   ],
   "source": [
    "### things that are wrong \n",
    "\n",
    "#### 1. products - price cannot be negative (remove or impute? should it just be 0 then?)\n",
    "\n",
    "### how many negative prices are there? \n",
    "## !! JUST 1\n",
    "#negative = dataProducts[dataProducts['price']<=0]\n",
    "#print(negative)\n",
    "\n",
    "### how any rows are there of that product? \n",
    "## !! T_0 -> 1 row\n",
    "#prodT_0 = dataProducts[dataProducts['id_prod']== 'T_0']\n",
    "#print(prodT_0)\n",
    "#print(dataTransactions[dataTransactions['id_prod']== 'T_0'])\n",
    "## !!! cannot remove T_0 because then the transaction table wont have anything to map to.\n",
    "\n",
    "### how many products are there in table? will removing this one impact metrics?\n",
    "#print(dataProducts['id_prod'].nunique())\n",
    "## !!! 3287 unique products\n",
    "\n",
    "### change price of T_0 to 0 instead of -1 and run describe again \n",
    "print(dataProducts.loc[dataProducts['id_prod'] =='T_0'])\n",
    "dataProducts.loc[[731],['price']] = 0 \n",
    "print(dataProducts.loc[dataProducts['id_prod'] =='T_0'])\n",
    "\n",
    "#### 2. transactions - dups \n",
    "dataTransactions = dataTransactions.drop_duplicates(keep= \"first\")\n",
    "#assert dataTransactions.duplicated() == null, \"There are dups\"\n",
    "\n",
    "\n"
   ]
  },
  {
   "cell_type": "code",
   "execution_count": 7,
   "id": "d3e9b24c-50ca-432c-90d5-28316f8b3ffc",
   "metadata": {},
   "outputs": [
    {
     "data": {
      "text/plain": [
       "id_prod     object\n",
       "price      float64\n",
       "categ        int64\n",
       "dtype: object"
      ]
     },
     "metadata": {},
     "output_type": "display_data"
    },
    {
     "data": {
      "image/png": "[encoded data removed]",
      "text/plain": [
       "<Figure size 432x288 with 1 Axes>"
      ]
     },
     "metadata": {
      "needs_background": "light"
     },
     "output_type": "display_data"
    }
   ],
   "source": [
    "## products\n",
    "dataProducts.boxplot(column='price') ## are these outliers? or just many diff products? how do i dtermine what is \"outlier\"?\n",
    "dataProducts['price'].astype(float)\n",
    "display(dataProducts.dtypes)\n",
    "#display(dataProducts[dataProducts['price']<1])"
   ]
  },
  {
   "cell_type": "code",
   "execution_count": 9,
   "id": "ac11ceb8-333c-4a32-9c06-ec209b9f0b15",
   "metadata": {},
   "outputs": [],
   "source": [
    "#display(dataTransactions[dataTransactions['id_prod']=='T_0'])\n",
    "# remove test transactions \n",
    "# if the \"date' has \"test\" then drop \n",
    "dataTransactions=dataTransactions[dataTransactions['date'].str.contains('test')==False]"
   ]
  },
  {
   "cell_type": "code",
   "execution_count": 10,
   "id": "e3848d32-d714-4f6a-bf16-97484a49d527",
   "metadata": {},
   "outputs": [],
   "source": [
    "## convert to proper format each of values -> $ should be floats, dates should be datetimes\n",
    "dataTransactions['date'] =  pd.to_datetime(dataTransactions['date'])\n",
    "#display(dataTransactions.dtypes)"
   ]
  },
  {
   "cell_type": "code",
   "execution_count": 11,
   "id": "c4346503-f7ad-40e2-880d-86dfcca1b28b",
   "metadata": {},
   "outputs": [],
   "source": [
    "dataTransactions['Month'] = dataTransactions['date'].dt.month\n",
    "dataTransactions['Year'] = dataTransactions['date'].dt.year\n",
    "dataTransactions['Day'] = dataTransactions['date'].dt.day\n",
    "dataTransactions['Weekday'] = dataTransactions['date'].dt.weekday\n",
    "dataTransactions['Hour'] = dataTransactions['date'].dt.hour\n",
    "dataTransactions['Minute'] = dataTransactions['date'].dt.minute"
   ]
  },
  {
   "cell_type": "code",
   "execution_count": 12,
   "id": "efd4253a-eab4-4ae8-8fb2-f467083e0484",
   "metadata": {},
   "outputs": [],
   "source": [
    "Months = {1:'Jan',2:'Feb',3:'Mar', 4:'Apr', 5:'May', 6:'Jun', 7:'Jul', 8:'Aug', 9:'Sep', 10:'Oct', 11:'Nov', 12:'Dec'}\n",
    "Weekday = {0:\"Mon\", 1:\"Tue\", 2:\"Wed\", 3:\"Thu\", 4:\"Fri\", 5:\"Sat\", 6:\"Sun\"}\n",
    "dataTransactions['Weekday'].replace(Weekday, inplace=True)\n",
    "dataTransactions['Month'].replace(Months, inplace=True)"
   ]
  },
  {
   "cell_type": "code",
   "execution_count": 13,
   "id": "e6c91279-fdbd-4662-bbe2-1a559fbc98e5",
   "metadata": {},
   "outputs": [
    {
     "name": "stdout",
     "output_type": "stream",
     "text": [
      "2021-03-01 00:01:07.843138\n",
      "2022-02-28 23:59:58.040472\n"
     ]
    },
    {
     "data": {
      "image/png": "[encoded data removed]",
      "text/plain": [
       "<Figure size 432x288 with 1 Axes>"
      ]
     },
     "metadata": {
      "needs_background": "light"
     },
     "output_type": "display_data"
    }
   ],
   "source": [
    "sns.countplot(data=dataTransactions, x='Month', hue='Year')\n",
    "print(dataTransactions['date'].min())\n",
    "print(dataTransactions['date'].max())"
   ]
  },
  {
   "cell_type": "code",
   "execution_count": 14,
   "id": "a9aee599-8d0b-44e9-9a44-f2efb0dd91fc",
   "metadata": {},
   "outputs": [
    {
     "data": {
      "text/plain": [
       "<AxesSubplot:xlabel='Year', ylabel='count'>"
      ]
     },
     "execution_count": 14,
     "metadata": {},
     "output_type": "execute_result"
    },
    {
     "data": {
      "image/png": "[encoded data removed]",
      "text/plain": [
       "<Figure size 432x288 with 1 Axes>"
      ]
     },
     "metadata": {
      "needs_background": "light"
     },
     "output_type": "display_data"
    }
   ],
   "source": [
    "sns.countplot(x=dataTransactions.Year)"
   ]
  },
  {
   "cell_type": "code",
   "execution_count": 16,
   "id": "8a2ba3e6-bf5b-4085-bc4e-b911cbb05fc2",
   "metadata": {},
   "outputs": [
    {
     "data": {
      "text/plain": [
       "<AxesSubplot:xlabel='Weekday', ylabel='count'>"
      ]
     },
     "execution_count": 16,
     "metadata": {},
     "output_type": "execute_result"
    },
    {
     "data": {
      "image/png": "[encoded data removed]",
      "text/plain": [
       "<Figure size 432x288 with 1 Axes>"
      ]
     },
     "metadata": {
      "needs_background": "light"
     },
     "output_type": "display_data"
    }
   ],
   "source": [
    "sns.countplot(data=dataTransactions, x='Weekday', hue='Year')"
   ]
  },
  {
   "cell_type": "code",
   "execution_count": null,
   "id": "48373d7d-1e18-47ff-aa98-2bc42fa73ac0",
   "metadata": {},
   "outputs": [],
   "source": [
    "#### task2 Indicators of central tendency and dispersion. ####\n",
    "# analyzing the transactions date and price\n",
    "## merge products and transactions on 'id_prod' as left join"
   ]
  },
  {
   "cell_type": "code",
   "execution_count": 15,
   "id": "914f4c43-0fb9-41b8-b2e1-83e5ad7f9a16",
   "metadata": {},
   "outputs": [
    {
     "data": {
      "text/plain": [
       "(336816, 10)"
      ]
     },
     "metadata": {},
     "output_type": "display_data"
    },
    {
     "data": {
      "text/plain": [
       "(336816, 12)"
      ]
     },
     "metadata": {},
     "output_type": "display_data"
    }
   ],
   "source": [
    "dataProductsTransactionsLeft = dataTransactions.merge(dataProducts,on=['id_prod'], how='left')\n",
    "display(dataTransactions.shape)\n",
    "display(dataProductsTransactionsLeft.shape)"
   ]
  },
  {
   "cell_type": "code",
   "execution_count": 16,
   "id": "bf965eab-1efc-4444-9aea-b1d6e273bd04",
   "metadata": {},
   "outputs": [
    {
     "data": {
      "text/html": [
       "<div>\n",
       "<style scoped>\n",
       "    .dataframe tbody tr th:only-of-type {\n",
       "        vertical-align: middle;\n",
       "    }\n",
       "\n",
       "    .dataframe tbody tr th {\n",
       "        vertical-align: top;\n",
       "    }\n",
       "\n",
       "    .dataframe thead th {\n",
       "        text-align: right;\n",
       "    }\n",
       "</style>\n",
       "<table border=\"1\" class=\"dataframe\">\n",
       "  <thead>\n",
       "    <tr style=\"text-align: right;\">\n",
       "      <th></th>\n",
       "      <th>id_prod</th>\n",
       "      <th>date</th>\n",
       "      <th>session_id</th>\n",
       "      <th>client_id</th>\n",
       "      <th>Month</th>\n",
       "      <th>Year</th>\n",
       "      <th>Day</th>\n",
       "      <th>Weekday</th>\n",
       "      <th>Hour</th>\n",
       "      <th>Minute</th>\n",
       "      <th>price</th>\n",
       "      <th>categ</th>\n",
       "    </tr>\n",
       "  </thead>\n",
       "  <tbody>\n",
       "  </tbody>\n",
       "</table>\n",
       "</div>"
      ],
      "text/plain": [
       "Empty DataFrame\n",
       "Columns: [id_prod, date, session_id, client_id, Month, Year, Day, Weekday, Hour, Minute, price, categ]\n",
       "Index: []"
      ]
     },
     "metadata": {},
     "output_type": "display_data"
    },
    {
     "data": {
      "text/html": [
       "<div>\n",
       "<style scoped>\n",
       "    .dataframe tbody tr th:only-of-type {\n",
       "        vertical-align: middle;\n",
       "    }\n",
       "\n",
       "    .dataframe tbody tr th {\n",
       "        vertical-align: top;\n",
       "    }\n",
       "\n",
       "    .dataframe thead th {\n",
       "        text-align: right;\n",
       "    }\n",
       "</style>\n",
       "<table border=\"1\" class=\"dataframe\">\n",
       "  <thead>\n",
       "    <tr style=\"text-align: right;\">\n",
       "      <th></th>\n",
       "      <th>id_prod</th>\n",
       "      <th>date</th>\n",
       "      <th>session_id</th>\n",
       "      <th>client_id</th>\n",
       "      <th>Month</th>\n",
       "      <th>Year</th>\n",
       "      <th>Day</th>\n",
       "      <th>Weekday</th>\n",
       "      <th>Hour</th>\n",
       "      <th>Minute</th>\n",
       "      <th>price</th>\n",
       "      <th>categ</th>\n",
       "    </tr>\n",
       "  </thead>\n",
       "  <tbody>\n",
       "  </tbody>\n",
       "</table>\n",
       "</div>"
      ],
      "text/plain": [
       "Empty DataFrame\n",
       "Columns: [id_prod, date, session_id, client_id, Month, Year, Day, Weekday, Hour, Minute, price, categ]\n",
       "Index: []"
      ]
     },
     "metadata": {},
     "output_type": "display_data"
    }
   ],
   "source": [
    "display(dataProductsTransactionsLeft[dataProductsTransactionsLeft['id_prod'].isna()==True])\n",
    "display(dataProductsTransactionsLeft[dataProductsTransactionsLeft['date'].isna()==True])\n",
    "### there are no null values for dates or id_prod so thats good. should use left join"
   ]
  },
  {
   "cell_type": "code",
   "execution_count": 17,
   "id": "9cd75d32-d8cf-40e8-a91e-03ba3f69618e",
   "metadata": {},
   "outputs": [],
   "source": [
    "dataProductsTransactionsCustomersLeft = dataProductsTransactionsLeft.merge(dataCustomers, on='client_id', how='left')"
   ]
  },
  {
   "cell_type": "code",
   "execution_count": 18,
   "id": "acf19dfa-1289-4635-aa0d-e9cc496c1554",
   "metadata": {},
   "outputs": [
    {
     "data": {
      "text/html": [
       "<div>\n",
       "<style scoped>\n",
       "    .dataframe tbody tr th:only-of-type {\n",
       "        vertical-align: middle;\n",
       "    }\n",
       "\n",
       "    .dataframe tbody tr th {\n",
       "        vertical-align: top;\n",
       "    }\n",
       "\n",
       "    .dataframe thead th {\n",
       "        text-align: right;\n",
       "    }\n",
       "</style>\n",
       "<table border=\"1\" class=\"dataframe\">\n",
       "  <thead>\n",
       "    <tr style=\"text-align: right;\">\n",
       "      <th></th>\n",
       "      <th>id_prod</th>\n",
       "      <th>date</th>\n",
       "      <th>session_id</th>\n",
       "      <th>client_id</th>\n",
       "      <th>Month</th>\n",
       "      <th>Year</th>\n",
       "      <th>Day</th>\n",
       "      <th>Weekday</th>\n",
       "      <th>Hour</th>\n",
       "      <th>Minute</th>\n",
       "      <th>price</th>\n",
       "      <th>categ</th>\n",
       "      <th>sex</th>\n",
       "      <th>birth</th>\n",
       "    </tr>\n",
       "  </thead>\n",
       "  <tbody>\n",
       "    <tr>\n",
       "      <th>0</th>\n",
       "      <td>0_1483</td>\n",
       "      <td>2021-04-10 18:37:28.723910</td>\n",
       "      <td>s_18746</td>\n",
       "      <td>c_4450</td>\n",
       "      <td>Apr</td>\n",
       "      <td>2021</td>\n",
       "      <td>10</td>\n",
       "      <td>Sat</td>\n",
       "      <td>18</td>\n",
       "      <td>37</td>\n",
       "      <td>4.99</td>\n",
       "      <td>0.0</td>\n",
       "      <td>f</td>\n",
       "      <td>1977</td>\n",
       "    </tr>\n",
       "    <tr>\n",
       "      <th>1</th>\n",
       "      <td>2_226</td>\n",
       "      <td>2022-02-03 01:55:53.276402</td>\n",
       "      <td>s_159142</td>\n",
       "      <td>c_277</td>\n",
       "      <td>Feb</td>\n",
       "      <td>2022</td>\n",
       "      <td>3</td>\n",
       "      <td>Thu</td>\n",
       "      <td>1</td>\n",
       "      <td>55</td>\n",
       "      <td>65.75</td>\n",
       "      <td>2.0</td>\n",
       "      <td>f</td>\n",
       "      <td>2000</td>\n",
       "    </tr>\n",
       "    <tr>\n",
       "      <th>2</th>\n",
       "      <td>1_374</td>\n",
       "      <td>2021-09-23 15:13:46.938559</td>\n",
       "      <td>s_94290</td>\n",
       "      <td>c_4270</td>\n",
       "      <td>Sep</td>\n",
       "      <td>2021</td>\n",
       "      <td>23</td>\n",
       "      <td>Thu</td>\n",
       "      <td>15</td>\n",
       "      <td>13</td>\n",
       "      <td>10.71</td>\n",
       "      <td>1.0</td>\n",
       "      <td>f</td>\n",
       "      <td>1979</td>\n",
       "    </tr>\n",
       "    <tr>\n",
       "      <th>3</th>\n",
       "      <td>0_2186</td>\n",
       "      <td>2021-10-17 03:27:18.783634</td>\n",
       "      <td>s_105936</td>\n",
       "      <td>c_4597</td>\n",
       "      <td>Oct</td>\n",
       "      <td>2021</td>\n",
       "      <td>17</td>\n",
       "      <td>Sun</td>\n",
       "      <td>3</td>\n",
       "      <td>27</td>\n",
       "      <td>4.20</td>\n",
       "      <td>0.0</td>\n",
       "      <td>m</td>\n",
       "      <td>1963</td>\n",
       "    </tr>\n",
       "    <tr>\n",
       "      <th>4</th>\n",
       "      <td>0_1351</td>\n",
       "      <td>2021-07-17 20:34:25.800563</td>\n",
       "      <td>s_63642</td>\n",
       "      <td>c_1242</td>\n",
       "      <td>Jul</td>\n",
       "      <td>2021</td>\n",
       "      <td>17</td>\n",
       "      <td>Sat</td>\n",
       "      <td>20</td>\n",
       "      <td>34</td>\n",
       "      <td>8.99</td>\n",
       "      <td>0.0</td>\n",
       "      <td>f</td>\n",
       "      <td>1980</td>\n",
       "    </tr>\n",
       "  </tbody>\n",
       "</table>\n",
       "</div>"
      ],
      "text/plain": [
       "  id_prod                       date session_id client_id Month  Year  Day  \\\n",
       "0  0_1483 2021-04-10 18:37:28.723910    s_18746    c_4450   Apr  2021   10   \n",
       "1   2_226 2022-02-03 01:55:53.276402   s_159142     c_277   Feb  2022    3   \n",
       "2   1_374 2021-09-23 15:13:46.938559    s_94290    c_4270   Sep  2021   23   \n",
       "3  0_2186 2021-10-17 03:27:18.783634   s_105936    c_4597   Oct  2021   17   \n",
       "4  0_1351 2021-07-17 20:34:25.800563    s_63642    c_1242   Jul  2021   17   \n",
       "\n",
       "  Weekday  Hour  Minute  price  categ sex  birth  \n",
       "0     Sat    18      37   4.99    0.0   f   1977  \n",
       "1     Thu     1      55  65.75    2.0   f   2000  \n",
       "2     Thu    15      13  10.71    1.0   f   1979  \n",
       "3     Sun     3      27   4.20    0.0   m   1963  \n",
       "4     Sat    20      34   8.99    0.0   f   1980  "
      ]
     },
     "execution_count": 18,
     "metadata": {},
     "output_type": "execute_result"
    }
   ],
   "source": [
    "dataProductsTransactionsCustomersLeft.describe()\n",
    "dataProductsTransactionsCustomersLeft.head()"
   ]
  },
  {
   "cell_type": "code",
   "execution_count": 19,
   "id": "627998d3-1bbf-426d-8976-d87b1dd8d59e",
   "metadata": {},
   "outputs": [
    {
     "name": "stdout",
     "output_type": "stream",
     "text": [
      "DatetimeIndex(['2021-03-01', '2021-03-02', '2021-03-03', '2021-03-04',\n",
      "               '2021-03-05', '2021-03-06', '2021-03-07', '2021-03-08',\n",
      "               '2021-03-09', '2021-03-10',\n",
      "               ...\n",
      "               '2022-02-19', '2022-02-20', '2022-02-21', '2022-02-22',\n",
      "               '2022-02-23', '2022-02-24', '2022-02-25', '2022-02-26',\n",
      "               '2022-02-27', '2022-02-28'],\n",
      "              dtype='datetime64[ns]', length=365, freq='D')\n"
     ]
    }
   ],
   "source": [
    "## qualitative representation - category\n",
    "\n",
    "# time series to determine whether dates are missing for transactions - plot it to see if theres gaps in data \n",
    "#sns.plot(data=dataProductsTransactionsCustomersLeft, x='date')\n",
    "#dataProductsTransactionsCustomersLeft.plot(x='Year', y='date')\n",
    "date_range = pd.date_range(start=\"2021-03-01\", end=\"2022-02-28\", freq=\"D\")\n",
    "\n",
    "##this doesnt work \n",
    "missing_dates = date_range[~date_range.isin(dataProductsTransactionsCustomersLeft.index)]\n",
    "print(missing_dates)\n",
    "## quantitative - histograms -> price\n",
    "#sns.histplot(data=dataProductsTransactionsCustomersLeft, x= \"price\", bins = 50, kde=True)\n",
    "#sns.histplot(data=dataProductsTransactionsCustomersLeft, x= \"Month\", bins = 12, kde=True)\n",
    "#sns.histplot(data=dataProductsTransactionsCustomersLeft, x= \"birth\", bins = 30)\n"
   ]
  },
  {
   "cell_type": "code",
   "execution_count": 20,
   "id": "08ff8695-149d-4882-89a2-cad11be29d09",
   "metadata": {},
   "outputs": [
    {
     "name": "stdout",
     "output_type": "stream",
     "text": [
      "336713\n"
     ]
    },
    {
     "data": {
      "image/png": "[encoded data removed]",
      "text/plain": [
       "<Figure size 432x288 with 1 Axes>"
      ]
     },
     "metadata": {
      "needs_background": "light"
     },
     "output_type": "display_data"
    }
   ],
   "source": [
    "#### A concentration analysis, using a Lorenz curve and a Gini coefficient.\n",
    "import numpy as np\n",
    "\n",
    "price = dataProductsTransactionsCustomersLeft[dataProductsTransactionsCustomersLeft['price'] > 0]\n",
    "priceOnly = price.price\n",
    "\n",
    "def lorenzCurve(priceOnly):\n",
    "    n = len(priceOnly)\n",
    "    lorenz = np.cumsum(np.sort(priceOnly)) / priceOnly.sum()\n",
    "    lorenz = np.append([0],lorenz) # The Lorenz Curve begins at 0\n",
    "    xaxis = np.linspace(0-1/n,1+1/n,n+1) # There is 1 segment (of size n) for each individual, plus 1 segment at y=0. The first segment starts at 0-1/n and the last one finishes at 1+1/n\n",
    "    sns.lineplot(data=priceOnly,x=xaxis,y=lorenz,drawstyle='steps-post')\n",
    "    return lorenz,n\n",
    "\n",
    "lorenzPriceAll,size = lorenzCurve(priceOnly)\n",
    "print(size)"
   ]
  },
  {
   "cell_type": "code",
   "execution_count": 21,
   "id": "d1582da9-9c74-4789-9bd4-54d214eabc8a",
   "metadata": {},
   "outputs": [
    {
     "data": {
      "text/plain": [
       "0.392145510890881"
      ]
     },
     "execution_count": 21,
     "metadata": {},
     "output_type": "execute_result"
    }
   ],
   "source": [
    "def gini(lorenz, size):\n",
    "    #print(lorenz.sum())\n",
    "    #print(\"size \",size)\n",
    "    AUC = (lorenz.sum() -lorenz[-1]/2 -lorenz[0]/2)/size # area under the Lorenz Curve. The first segment (lorenz[0]) is halfly below O, so we divide it by 2. We do the same for the mast segment lorenz[-1]\n",
    "    S = 0.5 - AUC # area between 1st bisector and the Lorenz Curve\n",
    "    gini = 2*S\n",
    "    return gini\n",
    "\n",
    "gini(lorenzPriceAll,size)"
   ]
  },
  {
   "cell_type": "code",
   "execution_count": null,
   "id": "3d397c33-ea7b-4144-9d71-9d032380575e",
   "metadata": {},
   "outputs": [],
   "source": [
    "### remove anything above 40$ and do lorenz curve 0-40$ and see the gini coefficient "
   ]
  },
  {
   "cell_type": "code",
   "execution_count": 22,
   "id": "d148b005-d0e4-464d-8d4e-b16be31d0439",
   "metadata": {},
   "outputs": [
    {
     "data": {
      "text/plain": [
       "<AxesSubplot:>"
      ]
     },
     "execution_count": 22,
     "metadata": {},
     "output_type": "execute_result"
    },
    {
     "data": {
      "image/png": "[encoded data removed]",
      "text/plain": [
       "<Figure size 432x288 with 1 Axes>"
      ]
     },
     "metadata": {
      "needs_background": "light"
     },
     "output_type": "display_data"
    }
   ],
   "source": [
    "dataProductsTransactionsCustomersLeft.boxplot(column='price')"
   ]
  },
  {
   "cell_type": "code",
   "execution_count": 23,
   "id": "df31a865-69e1-4c47-afc7-d0c1f1c5b6c1",
   "metadata": {},
   "outputs": [
    {
     "data": {
      "text/plain": [
       "count    336713.000000\n",
       "mean         17.215189\n",
       "std          17.855445\n",
       "min           0.620000\n",
       "25%           8.610000\n",
       "50%          13.900000\n",
       "75%          18.990000\n",
       "max         300.000000\n",
       "Name: price, dtype: float64"
      ]
     },
     "execution_count": 23,
     "metadata": {},
     "output_type": "execute_result"
    }
   ],
   "source": [
    "## central tendency\n",
    "dataProductsTransactionsCustomersLeft['price'].describe()"
   ]
  },
  {
   "cell_type": "code",
   "execution_count": 24,
   "id": "331d2e87-50a6-4144-8801-306868d3c4e9",
   "metadata": {},
   "outputs": [],
   "source": [
    "### anything above 19$ is outlier? rerun lorenz/gini w prices 0-19\n",
    "\n",
    "dataProductsTransactionsCustomersLeftPriceLess19=dataProductsTransactionsCustomersLeft[dataProductsTransactionsCustomersLeft['price'] < 32]"
   ]
  },
  {
   "cell_type": "code",
   "execution_count": 25,
   "id": "f8d00006-ce13-4c1a-9977-25f663a1c39d",
   "metadata": {},
   "outputs": [
    {
     "data": {
      "text/plain": [
       "count    315463.000000\n",
       "mean         13.670407\n",
       "std           6.754064\n",
       "min           0.620000\n",
       "25%           8.090000\n",
       "50%          12.990000\n",
       "75%          17.990000\n",
       "max          31.990000\n",
       "Name: price, dtype: float64"
      ]
     },
     "execution_count": 25,
     "metadata": {},
     "output_type": "execute_result"
    }
   ],
   "source": [
    "dataProductsTransactionsCustomersLeftPriceLess19['price'].describe()"
   ]
  },
  {
   "cell_type": "code",
   "execution_count": 26,
   "id": "4a9f3a4e-4903-4ab9-b093-8ec9f6478336",
   "metadata": {},
   "outputs": [
    {
     "data": {
      "text/plain": [
       "<AxesSubplot:>"
      ]
     },
     "execution_count": 26,
     "metadata": {},
     "output_type": "execute_result"
    },
    {
     "data": {
      "image/png": "[encoded data removed]",
      "text/plain": [
       "<Figure size 432x288 with 1 Axes>"
      ]
     },
     "metadata": {
      "needs_background": "light"
     },
     "output_type": "display_data"
    }
   ],
   "source": [
    "dataProductsTransactionsCustomersLeftPriceLess19.boxplot(column='price')"
   ]
  },
  {
   "cell_type": "code",
   "execution_count": 27,
   "id": "663ec108-a435-473f-995c-679150cfb4c0",
   "metadata": {},
   "outputs": [
    {
     "data": {
      "image/png": "[encoded data removed]",
      "text/plain": [
       "<Figure size 432x288 with 1 Axes>"
      ]
     },
     "metadata": {
      "needs_background": "light"
     },
     "output_type": "display_data"
    }
   ],
   "source": [
    "#### lorenz + gini on price 0-19\n",
    "price19 = dataProductsTransactionsCustomersLeftPriceLess19[dataProductsTransactionsCustomersLeftPriceLess19['price'] > 0]\n",
    "price19Only = price19.price\n",
    "lorenzCurve19,size19 = lorenzCurve(price19Only)"
   ]
  },
  {
   "cell_type": "code",
   "execution_count": 28,
   "id": "d29c2880-ea6a-4929-b27c-81e4a66c5b6a",
   "metadata": {},
   "outputs": [
    {
     "data": {
      "text/plain": [
       "0.28016651177326046"
      ]
     },
     "execution_count": 28,
     "metadata": {},
     "output_type": "execute_result"
    }
   ],
   "source": [
    "gini(lorenzCurve19,size19)"
   ]
  },
  {
   "cell_type": "code",
   "execution_count": 29,
   "id": "d57bd70d-0652-4df3-add2-77567a354597",
   "metadata": {},
   "outputs": [
    {
     "data": {
      "text/plain": [
       "<AxesSubplot:xlabel='Month', ylabel='price'>"
      ]
     },
     "execution_count": 29,
     "metadata": {},
     "output_type": "execute_result"
    },
    {
     "data": {
      "image/png": "[encoded data removed]",
      "text/plain": [
       "<Figure size 432x288 with 1 Axes>"
      ]
     },
     "metadata": {
      "needs_background": "light"
     },
     "output_type": "display_data"
    }
   ],
   "source": [
    "### time series graph (i.e a graph in which the abscissa axis represents dates).\n",
    "sns.lineplot(data=dataProductsTransactionsCustomersLeftPriceLess19,x='Month',y='price')"
   ]
  },
  {
   "cell_type": "code",
   "execution_count": 30,
   "id": "02157ecd-2435-4e13-89f7-f01f150eda32",
   "metadata": {},
   "outputs": [
    {
     "data": {
      "text/plain": [
       "<AxesSubplot:xlabel='Day', ylabel='price'>"
      ]
     },
     "execution_count": 30,
     "metadata": {},
     "output_type": "execute_result"
    },
    {
     "data": {
      "image/png": "[encoded data removed]",
      "text/plain": [
       "<Figure size 432x288 with 1 Axes>"
      ]
     },
     "metadata": {
      "needs_background": "light"
     },
     "output_type": "display_data"
    }
   ],
   "source": [
    "sns.lineplot(data=dataProductsTransactionsCustomersLeftPriceLess19,x='Day',y='price')"
   ]
  },
  {
   "cell_type": "code",
   "execution_count": 45,
   "id": "bf6f6faf-9f9d-49b3-a183-82a640beb370",
   "metadata": {},
   "outputs": [],
   "source": [
    "### Bivariate analyses."
   ]
  },
  {
   "cell_type": "code",
   "execution_count": 31,
   "id": "d937e09a-ebd1-4f33-ac1d-bf5b52754ef3",
   "metadata": {},
   "outputs": [
    {
     "data": {
      "text/plain": [
       "<AxesSubplot:xlabel='birth', ylabel='Count'>"
      ]
     },
     "execution_count": 31,
     "metadata": {},
     "output_type": "execute_result"
    },
    {
     "data": {
      "image/png": "[encoded data removed]",
      "text/plain": [
       "<Figure size 432x288 with 1 Axes>"
      ]
     },
     "metadata": {
      "needs_background": "light"
     },
     "output_type": "display_data"
    }
   ],
   "source": [
    "sns.histplot(data=dataProductsTransactionsCustomersLeftPriceLess19, x='birth', hue='sex')\n",
    "\n",
    "## follow up is this the same customer buying a lot??"
   ]
  },
  {
   "cell_type": "code",
   "execution_count": null,
   "id": "fe63ec03-3b1c-41c8-b680-b6b9386bdd2c",
   "metadata": {},
   "outputs": [],
   "source": [
    "#create bins representing decades get perentiles per decade "
   ]
  },
  {
   "cell_type": "code",
   "execution_count": 33,
   "id": "4a38a7ae-0683-4f84-bbac-562316633aca",
   "metadata": {},
   "outputs": [
    {
     "data": {
      "text/plain": [
       "<AxesSubplot:xlabel='Day', ylabel='Count'>"
      ]
     },
     "execution_count": 33,
     "metadata": {},
     "output_type": "execute_result"
    },
    {
     "data": {
      "image/png": "[encoded data removed]",
      "text/plain": [
       "<Figure size 432x288 with 1 Axes>"
      ]
     },
     "metadata": {
      "needs_background": "light"
     },
     "output_type": "display_data"
    }
   ],
   "source": [
    "sns.histplot(data=dataProductsTransactionsCustomersLeftPriceLess19, x='Day', hue='sex')"
   ]
  },
  {
   "cell_type": "code",
   "execution_count": 34,
   "id": "60b27eb4-e4a5-407d-aeb3-83be2a283c5c",
   "metadata": {},
   "outputs": [
    {
     "data": {
      "text/plain": [
       "<AxesSubplot:xlabel='categ', ylabel='Count'>"
      ]
     },
     "execution_count": 34,
     "metadata": {},
     "output_type": "execute_result"
    },
    {
     "data": {
      "image/png": "[encoded data removed]",
      "text/plain": [
       "<Figure size 432x288 with 1 Axes>"
      ]
     },
     "metadata": {
      "needs_background": "light"
     },
     "output_type": "display_data"
    }
   ],
   "source": [
    "############# TASK 3 ##########################\n",
    "\n",
    "## Is there a correlation between gender and categories of products purchased?\n",
    "#dataProductsTransactionsCustomersLeftPriceLess19.corr(method='pearson') -- didnt tell me anything\n",
    "dataProductsTransactionsCustomersLeftPriceLess19.head(2)\n",
    "sns.histplot(data=dataProductsTransactionsCustomersLeftPriceLess19, x='categ', bins=3, hue='sex')\n",
    "\n",
    "### Conclusion -> noticed that categ 2 is now missing, is it because its higher than 32$? must be.\n",
    "## try to use r2"
   ]
  },
  {
   "cell_type": "code",
   "execution_count": 35,
   "id": "1c47a07e-eaf4-447e-99a2-1fd9e544acae",
   "metadata": {},
   "outputs": [
    {
     "data": {
      "text/plain": [
       "<AxesSubplot:xlabel='categ', ylabel='Count'>"
      ]
     },
     "execution_count": 35,
     "metadata": {},
     "output_type": "execute_result"
    },
    {
     "data": {
      "image/png": "[encoded data removed]",
      "text/plain": [
       "<Figure size 432x288 with 1 Axes>"
      ]
     },
     "metadata": {
      "needs_background": "light"
     },
     "output_type": "display_data"
    }
   ],
   "source": [
    "sns.histplot(data=dataProductsTransactionsCustomersLeft, x='categ', bins=3, hue='sex')"
   ]
  },
  {
   "cell_type": "code",
   "execution_count": 36,
   "id": "64e46591-cc23-40e0-87a7-a7bf35cdf5c3",
   "metadata": {},
   "outputs": [
    {
     "data": {
      "text/plain": [
       "categ  sex\n",
       "0.0    m      105640\n",
       "       f      103786\n",
       "1.0    f       55469\n",
       "       m       54266\n",
       "2.0    m        9292\n",
       "       f        8260\n",
       "dtype: int64"
      ]
     },
     "execution_count": 36,
     "metadata": {},
     "output_type": "execute_result"
    }
   ],
   "source": [
    "dataProductsTransactionsCustomersLeft[['categ','sex']].value_counts()\n",
    "## Conclusion -> men have more transactions in each categoiry than women 0-300$ "
   ]
  },
  {
   "cell_type": "code",
   "execution_count": 37,
   "id": "2e0a3a6f-e3bd-4e71-bce8-91948dd2f689",
   "metadata": {},
   "outputs": [
    {
     "data": {
      "text/plain": [
       "categ  sex\n",
       "0.0    m      105574\n",
       "       f      103730\n",
       "1.0    f       53604\n",
       "       m       52542\n",
       "2.0    m           7\n",
       "       f           6\n",
       "dtype: int64"
      ]
     },
     "execution_count": 37,
     "metadata": {},
     "output_type": "execute_result"
    }
   ],
   "source": [
    "dataProductsTransactionsCustomersLeftPriceLess19[['categ','sex']].value_counts()"
   ]
  },
  {
   "cell_type": "code",
   "execution_count": 38,
   "id": "820f6c15-17b1-4de9-aa70-7192e4be850d",
   "metadata": {},
   "outputs": [
    {
     "data": {
      "text/plain": [
       "<AxesSubplot:xlabel='birth', ylabel='price'>"
      ]
     },
     "execution_count": 38,
     "metadata": {},
     "output_type": "execute_result"
    },
    {
     "data": {
      "image/png": "[encoded data removed]",
      "text/plain": [
       "<Figure size 432x288 with 1 Axes>"
      ]
     },
     "metadata": {
      "needs_background": "light"
     },
     "output_type": "display_data"
    }
   ],
   "source": [
    "## Is there a correlation between age and:\n",
    "## ## The total amount of purchases?\n",
    "## ## The purchase frequency (the number of purchases per month for example)?\n",
    "## ## The average basket size (in number of items)?\n",
    "## ## Categories of purchased products?\n",
    "\n",
    "## age vs total amount of purchases\n",
    "sns.histplot(data = dataProductsTransactionsCustomersLeft, x='birth',y='price', palette='deep')\n",
    "### Conclusion -> a lot of purchases made by ppl born 1990+"
   ]
  },
  {
   "cell_type": "code",
   "execution_count": 39,
   "id": "cb168efa-716d-42a6-b95a-2aafa8402572",
   "metadata": {},
   "outputs": [
    {
     "data": {
      "text/plain": [
       "<AxesSubplot:xlabel='Month', ylabel='count'>"
      ]
     },
     "execution_count": 39,
     "metadata": {},
     "output_type": "execute_result"
    },
    {
     "data": {
      "image/png": "[encoded data removed]",
      "text/plain": [
       "<Figure size 432x288 with 1 Axes>"
      ]
     },
     "metadata": {
      "needs_background": "light"
     },
     "output_type": "display_data"
    }
   ],
   "source": [
    "## ave age vs The purchase frequency (the number of purchases per month for example)?\n",
    "dataProductsTransactionsCustomersLeft['decade']=np.floor(((2024-dataProductsTransactionsCustomersLeft['birth'])/10))*10\n",
    "sns.countplot(data = dataProductsTransactionsCustomersLeft, x='Month',hue=\"decade\")\n",
    "### Conclusion -> most people who are buying are 30,40,50 year round, most purchases in sept."
   ]
  },
  {
   "cell_type": "code",
   "execution_count": null,
   "id": "d363ad96-59bf-41f2-bd4e-9fa684137166",
   "metadata": {},
   "outputs": [],
   "source": [
    "# age and average basket size (in number of items)?\n"
   ]
  },
  {
   "cell_type": "code",
   "execution_count": 40,
   "id": "baf03dd0-420a-4790-9a91-97ff6ab226ac",
   "metadata": {},
   "outputs": [
    {
     "data": {
      "text/plain": [
       "<AxesSubplot:xlabel='decade', ylabel='count'>"
      ]
     },
     "execution_count": 40,
     "metadata": {},
     "output_type": "execute_result"
    },
    {
     "data": {
      "image/png": "[encoded data removed]",
      "text/plain": [
       "<Figure size 432x288 with 1 Axes>"
      ]
     },
     "metadata": {
      "needs_background": "light"
     },
     "output_type": "display_data"
    }
   ],
   "source": [
    "# age and Categories of purchased products?\n",
    "sns.countplot(data = dataProductsTransactionsCustomersLeft, x='decade',hue=\"categ\")\n",
    "## Conclusion - only 20 and 30 year olds buy categ 3. ... 30-50 year olds buy the most in every categority."
   ]
  },
  {
   "cell_type": "code",
   "execution_count": 44,
   "id": "393bc717-2f7b-4b01-bb7a-efee4fe77aa1",
   "metadata": {},
   "outputs": [
    {
     "name": "stdout",
     "output_type": "stream",
     "text": [
      "                                 OLS Regression Results                                \n",
      "=======================================================================================\n",
      "Dep. Variable:                  birth   R-squared (uncentered):                   0.803\n",
      "Model:                            OLS   Adj. R-squared (uncentered):              0.803\n",
      "Method:                 Least Squares   F-statistic:                          1.288e+06\n",
      "Date:                Tue, 09 Jul 2024   Prob (F-statistic):                        0.00\n",
      "Time:                        16:30:19   Log-Likelihood:                     -2.5853e+06\n",
      "No. Observations:              315463   AIC:                                  5.171e+06\n",
      "Df Residuals:                  315462   BIC:                                  5.171e+06\n",
      "Df Model:                           1                                                  \n",
      "Covariance Type:            nonrobust                                                  \n",
      "==============================================================================\n",
      "                 coef    std err          t      P>|t|      [0.025      0.975]\n",
      "------------------------------------------------------------------------------\n",
      "price        116.2018      0.102   1135.072      0.000     116.001     116.402\n",
      "==============================================================================\n",
      "Omnibus:                    16621.145   Durbin-Watson:                   1.612\n",
      "Prob(Omnibus):                  0.000   Jarque-Bera (JB):            14818.167\n",
      "Skew:                          -0.467   Prob(JB):                         0.00\n",
      "Kurtosis:                       2.495   Cond. No.                         1.00\n",
      "==============================================================================\n",
      "\n",
      "Notes:\n",
      "[1] R² is computed without centering (uncentered) since the model does not contain a constant.\n",
      "[2] Standard Errors assume that the covariance matrix of the errors is correctly specified.\n"
     ]
    }
   ],
   "source": [
    "### linear regression between age and categories \n",
    "### age and purchase frequency \n",
    "import statsmodels.api as sm\n",
    "import matplotlib.pyplot as plt\n",
    "\n",
    "model = sm.OLS(dataProductsTransactionsCustomersLeftPriceLess19['birth'],dataProductsTransactionsCustomersLeftPriceLess19['price']).fit()\n",
    "print(model.summary())\n"
   ]
  },
  {
   "cell_type": "code",
   "execution_count": 46,
   "id": "269f9dda-98b1-4b5b-8bd9-a773b204a26d",
   "metadata": {},
   "outputs": [
    {
     "name": "stderr",
     "output_type": "stream",
     "text": [
      "/var/folders/cy/8zslr33d3hqbx1vkw9grhgm40000gn/T/ipykernel_1554/630341931.py:6: SettingWithCopyWarning: \n",
      "A value is trying to be set on a copy of a slice from a DataFrame.\n",
      "Try using .loc[row_indexer,col_indexer] = value instead\n",
      "\n",
      "See the caveats in the documentation: https://pandas.pydata.org/pandas-docs/stable/user_guide/indexing.html#returning-a-view-versus-a-copy\n",
      "  dataProductsTransactionsCustomersLeftPriceLess19['predicted'] = reg.predict(X)\n"
     ]
    },
    {
     "data": {
      "image/png": "[encoded data removed]",
      "text/plain": [
       "<Figure size 432x288 with 1 Axes>"
      ]
     },
     "metadata": {
      "needs_background": "light"
     },
     "output_type": "display_data"
    }
   ],
   "source": [
    "from sklearn.linear_model import LinearRegression\n",
    "X = np.array(dataProductsTransactionsCustomersLeftPriceLess19['birth']).reshape(-1,1)\n",
    "y = np.array(dataProductsTransactionsCustomersLeftPriceLess19['price'])\n",
    "# fit the model\n",
    "reg = LinearRegression().fit(X, y)\n",
    "dataProductsTransactionsCustomersLeftPriceLess19['predicted'] = reg.predict(X)\n",
    "\n",
    "fig, ax = plt.subplots()\n",
    "dataProductsTransactionsCustomersLeftPriceLess19.plot.scatter(x = 'birth', y = 'price', s = 50,  marker = 'x', c = 'red', ax = ax)\n",
    "dataProductsTransactionsCustomersLeftPriceLess19.plot.line(x = 'birth', y = 'predicted', ax = ax)\n",
    "plt.show()\n"
   ]
  },
  {
   "cell_type": "code",
   "execution_count": null,
   "id": "3c7859c0-174a-4b0a-9ecc-8d32d6220c5e",
   "metadata": {},
   "outputs": [],
   "source": []
  }
 ],
 "metadata": {
  "kernelspec": {
   "display_name": "Python 3 (ipykernel)",
   "language": "python",
   "name": "python3"
  },
  "language_info": {
   "codemirror_mode": {
    "name": "ipython",
    "version": 3
   },
   "file_extension": ".py",
   "mimetype": "text/x-python",
   "name": "python",
   "nbconvert_exporter": "python",
   "pygments_lexer": "ipython3",
   "version": "3.9.7"
  }
 },
 "nbformat": 4,
 "nbformat_minor": 5
}
